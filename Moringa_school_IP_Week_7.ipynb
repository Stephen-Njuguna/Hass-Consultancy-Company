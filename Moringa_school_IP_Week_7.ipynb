{
  "nbformat": 4,
  "nbformat_minor": 0,
  "metadata": {
    "colab": {
      "name": "Moringa_school_IP_Week 7",
      "provenance": [],
      "collapsed_sections": [],
      "toc_visible": true,
      "authorship_tag": "ABX9TyMHiYpPL9g49KhS2QsxmQmQ",
      "include_colab_link": true
    },
    "kernelspec": {
      "name": "python3",
      "display_name": "Python 3"
    },
    "language_info": {
      "name": "python"
    }
  },
  "cells": [
    {
      "cell_type": "markdown",
      "metadata": {
        "id": "view-in-github",
        "colab_type": "text"
      },
      "source": [
        "<a href=\"https://colab.research.google.com/github/Stephen-Njuguna/Moringa_school_IP_Week-7/blob/main/Moringa_school_IP_Week_7.ipynb\" target=\"_parent\"><img src=\"https://colab.research.google.com/assets/colab-badge.svg\" alt=\"Open In Colab\"/></a>"
      ]
    },
    {
      "cell_type": "markdown",
      "metadata": {
        "id": "7SHdWPY4nrAM"
      },
      "source": [
        "## **Hass Consultancy Company - Housing Price Model**\n",
        "\n",
        "\n",
        "\n",
        "\n",
        "\n",
        "\n",
        "\n"
      ]
    },
    {
      "cell_type": "markdown",
      "metadata": {
        "id": "PgpZzMKHoPMN"
      },
      "source": [
        "## Defining the Question \n",
        "\n",
        "Create a model that would allow the company to accurately predict the sale of prices.  \n",
        "\n",
        "\n"
      ]
    },
    {
      "cell_type": "markdown",
      "metadata": {
        "id": "kbH5KTlKozJ3"
      },
      "source": [
        "## Defining Metrics of success\n",
        "\n",
        "\n",
        "Being able to create a model that has an aaccuracy of more that 70% and Low mean absolute error and predicts houses sale of price.\n",
        "\n",
        "\n"
      ]
    },
    {
      "cell_type": "markdown",
      "metadata": {
        "id": "OSbwN9FMpcqR"
      },
      "source": [
        "## Understanding the Content \n",
        "Home prices are shaped by supply and demand, like any other economic asset, and may fluctuate based on subtle changes in your area's economy.Factors like but not limited to Location of the property, its size, age and condition and the supply and demand scenario in the micro-market affect the property's value.Pricing your houses with the right price is what makes a real estate company successful by attracting many clients because the prices are always right to fit the customer expectations and the economy.\n",
        "\n",
        "\n",
        "\n"
      ]
    },
    {
      "cell_type": "markdown",
      "metadata": {
        "id": "4qCuY6D3rQQn"
      },
      "source": [
        "## Recording the Experimental Design\n",
        "1.   Importing the libraries\n",
        "2.   Loading and viewing the dataset\n",
        "3.   Cleaning the data.\n",
        "4.   Univariate analysis\n",
        "5.   Bivariate analysis\n",
        "6.   Multivariate analysis\n",
        "\n",
        "\n",
        "*   **Regression Analysis**\n",
        "- Linear Regression\n",
        "- Quantile Regression\n",
        "- Ridge Regression\n",
        "-Lasso Regression\n",
        "- Elastic Net Regression\n",
        "\n",
        "\n",
        "\n",
        "7. Conclusion and Recommendation"
      ]
    },
    {
      "cell_type": "markdown",
      "metadata": {
        "id": "pARNa-UnsBlO"
      },
      "source": [
        "## Reading Data"
      ]
    },
    {
      "cell_type": "code",
      "metadata": {
        "id": "NW0L4R2fr5Dl"
      },
      "source": [
        "#Import Libraries \n",
        "import pandas as pd\n",
        "import numpy as np\n",
        "import matplotlib.pyplot as plt\n",
        "import seaborn as sns\n",
        "# import warnings filter\n",
        "from warnings import simplefilter\n",
        "# ignore all future warnings\n",
        "simplefilter(action='ignore', category=FutureWarning)"
      ],
      "execution_count": 105,
      "outputs": []
    },
    {
      "cell_type": "code",
      "metadata": {
        "id": "hnr6R4eynkVs"
      },
      "source": [
        "#Loading Datasets\n",
        "df = pd.read_csv('house_data.csv')"
      ],
      "execution_count": 106,
      "outputs": []
    },
    {
      "cell_type": "markdown",
      "metadata": {
        "id": "wJgwAOZbtQ81"
      },
      "source": [
        "## Checking Data"
      ]
    },
    {
      "cell_type": "code",
      "metadata": {
        "colab": {
          "base_uri": "https://localhost:8080/"
        },
        "id": "lJKaJl02tXem",
        "outputId": "7683127e-f68a-4d02-f847-e2bceba041cc"
      },
      "source": [
        "# Determining the no. of records in our dataset\n",
        "#\n",
        "df.shape"
      ],
      "execution_count": 107,
      "outputs": [
        {
          "output_type": "execute_result",
          "data": {
            "text/plain": [
              "(21613, 20)"
            ]
          },
          "metadata": {},
          "execution_count": 107
        }
      ]
    },
    {
      "cell_type": "code",
      "metadata": {
        "colab": {
          "base_uri": "https://localhost:8080/",
          "height": 101
        },
        "id": "JTVn9H5TtdqQ",
        "outputId": "1a9680fa-592f-4573-8253-7a8b4ba3492d"
      },
      "source": [
        "# Previewing the Dataset\n",
        "df.head(1)"
      ],
      "execution_count": 108,
      "outputs": [
        {
          "output_type": "execute_result",
          "data": {
            "text/html": [
              "<div>\n",
              "<style scoped>\n",
              "    .dataframe tbody tr th:only-of-type {\n",
              "        vertical-align: middle;\n",
              "    }\n",
              "\n",
              "    .dataframe tbody tr th {\n",
              "        vertical-align: top;\n",
              "    }\n",
              "\n",
              "    .dataframe thead th {\n",
              "        text-align: right;\n",
              "    }\n",
              "</style>\n",
              "<table border=\"1\" class=\"dataframe\">\n",
              "  <thead>\n",
              "    <tr style=\"text-align: right;\">\n",
              "      <th></th>\n",
              "      <th>id</th>\n",
              "      <th>price</th>\n",
              "      <th>bedrooms</th>\n",
              "      <th>bathrooms</th>\n",
              "      <th>sqft_living</th>\n",
              "      <th>sqft_lot</th>\n",
              "      <th>floors</th>\n",
              "      <th>waterfront</th>\n",
              "      <th>view</th>\n",
              "      <th>condition</th>\n",
              "      <th>grade</th>\n",
              "      <th>sqft_above</th>\n",
              "      <th>sqft_basement</th>\n",
              "      <th>yr_built</th>\n",
              "      <th>yr_renovated</th>\n",
              "      <th>zipcode</th>\n",
              "      <th>lat</th>\n",
              "      <th>long</th>\n",
              "      <th>sqft_living15</th>\n",
              "      <th>sqft_lot15</th>\n",
              "    </tr>\n",
              "  </thead>\n",
              "  <tbody>\n",
              "    <tr>\n",
              "      <th>0</th>\n",
              "      <td>7129300520</td>\n",
              "      <td>221900.0</td>\n",
              "      <td>3</td>\n",
              "      <td>1.0</td>\n",
              "      <td>1180</td>\n",
              "      <td>5650</td>\n",
              "      <td>1.0</td>\n",
              "      <td>0</td>\n",
              "      <td>0</td>\n",
              "      <td>3</td>\n",
              "      <td>7</td>\n",
              "      <td>1180</td>\n",
              "      <td>0</td>\n",
              "      <td>1955</td>\n",
              "      <td>0</td>\n",
              "      <td>98178</td>\n",
              "      <td>47.5112</td>\n",
              "      <td>-122.257</td>\n",
              "      <td>1340</td>\n",
              "      <td>5650</td>\n",
              "    </tr>\n",
              "  </tbody>\n",
              "</table>\n",
              "</div>"
            ],
            "text/plain": [
              "           id     price  bedrooms  ...     long  sqft_living15  sqft_lot15\n",
              "0  7129300520  221900.0         3  ... -122.257           1340        5650\n",
              "\n",
              "[1 rows x 20 columns]"
            ]
          },
          "metadata": {},
          "execution_count": 108
        }
      ]
    },
    {
      "cell_type": "code",
      "metadata": {
        "colab": {
          "base_uri": "https://localhost:8080/"
        },
        "id": "NXoCv5TOtqCj",
        "outputId": "202c293d-e838-41c9-9731-ccb00567da50"
      },
      "source": [
        "#checking dataset information\n",
        "df.info()"
      ],
      "execution_count": 109,
      "outputs": [
        {
          "output_type": "stream",
          "name": "stdout",
          "text": [
            "<class 'pandas.core.frame.DataFrame'>\n",
            "RangeIndex: 21613 entries, 0 to 21612\n",
            "Data columns (total 20 columns):\n",
            " #   Column         Non-Null Count  Dtype  \n",
            "---  ------         --------------  -----  \n",
            " 0   id             21613 non-null  int64  \n",
            " 1   price          21613 non-null  float64\n",
            " 2   bedrooms       21613 non-null  int64  \n",
            " 3   bathrooms      21613 non-null  float64\n",
            " 4   sqft_living    21613 non-null  int64  \n",
            " 5   sqft_lot       21613 non-null  int64  \n",
            " 6   floors         21613 non-null  float64\n",
            " 7   waterfront     21613 non-null  int64  \n",
            " 8   view           21613 non-null  int64  \n",
            " 9   condition      21613 non-null  int64  \n",
            " 10  grade          21613 non-null  int64  \n",
            " 11  sqft_above     21613 non-null  int64  \n",
            " 12  sqft_basement  21613 non-null  int64  \n",
            " 13  yr_built       21613 non-null  int64  \n",
            " 14  yr_renovated   21613 non-null  int64  \n",
            " 15  zipcode        21613 non-null  int64  \n",
            " 16  lat            21613 non-null  float64\n",
            " 17  long           21613 non-null  float64\n",
            " 18  sqft_living15  21613 non-null  int64  \n",
            " 19  sqft_lot15     21613 non-null  int64  \n",
            "dtypes: float64(5), int64(15)\n",
            "memory usage: 3.3 MB\n"
          ]
        }
      ]
    },
    {
      "cell_type": "markdown",
      "metadata": {
        "id": "nN9MrxOat8Q4"
      },
      "source": [
        "### Define the appropriateness of the available data\n",
        "The dataset proovided is appropriate to answer the question because it has all the variables required for the house price predictor model creation"
      ]
    },
    {
      "cell_type": "markdown",
      "metadata": {
        "id": "T5O9ZErWuvCo"
      },
      "source": [
        "## Data Cleaning "
      ]
    },
    {
      "cell_type": "code",
      "metadata": {
        "colab": {
          "base_uri": "https://localhost:8080/",
          "height": 457
        },
        "id": "BppJKBMbt6Hw",
        "outputId": "42147577-bef6-420c-aeb2-83430459bc99"
      },
      "source": [
        "#checking for outliers \n",
        "df.boxplot(['price','bedrooms','bathrooms','floors','waterfront','grade','condition','lat','long'] , grid=False, figsize=[10,7])\n"
      ],
      "execution_count": 110,
      "outputs": [
        {
          "output_type": "execute_result",
          "data": {
            "text/plain": [
              "<matplotlib.axes._subplots.AxesSubplot at 0x7ff23ce18610>"
            ]
          },
          "metadata": {},
          "execution_count": 110
        },
        {
          "output_type": "display_data",
          "data": {
            "image/png": "[encoded data removed]",
            "text/plain": [
              "<Figure size 720x504 with 1 Axes>"
            ]
          },
          "metadata": {
            "needs_background": "light"
          }
        }
      ]
    },
    {
      "cell_type": "markdown",
      "metadata": {
        "id": "iTOqhH-CwIJy"
      },
      "source": [
        "Price has outliers because some houses are more expensive compared to others, so the shift in prices is what is caught as outliers. We can not do away with the outliers because they are part of our dataset."
      ]
    },
    {
      "cell_type": "code",
      "metadata": {
        "colab": {
          "base_uri": "https://localhost:8080/"
        },
        "id": "YbX-SOcqwmOr",
        "outputId": "3872dfd7-8731-4be0-d8ff-5a0940210b36"
      },
      "source": [
        "#Checking for anomalies\n",
        "for i in df.columns:\n",
        "  print(df[i].unique())\n",
        "  print('\\n')"
      ],
      "execution_count": 111,
      "outputs": [
        {
          "output_type": "stream",
          "name": "stdout",
          "text": [
            "[7129300520 6414100192 5631500400 ... 1523300141  291310100 1523300157]\n",
            "\n",
            "\n",
            "[221900. 538000. 180000. ... 541800. 610685. 402101.]\n",
            "\n",
            "\n",
            "[ 3  2  4  5  1  6  7  0  8  9 11 10 33]\n",
            "\n",
            "\n",
            "[1.   2.25 3.   2.   4.5  1.5  2.5  1.75 2.75 3.25 4.   3.5  0.75 4.75\n",
            " 5.   4.25 3.75 0.   1.25 5.25 6.   0.5  5.5  6.75 5.75 8.   7.5  7.75\n",
            " 6.25 6.5 ]\n",
            "\n",
            "\n",
            "[1180 2570  770 ... 3087 3118 1425]\n",
            "\n",
            "\n",
            "[ 5650  7242 10000 ...  5813  2388  1076]\n",
            "\n",
            "\n",
            "[1.  2.  1.5 3.  2.5 3.5]\n",
            "\n",
            "\n",
            "[0 1]\n",
            "\n",
            "\n",
            "[0 3 4 2 1]\n",
            "\n",
            "\n",
            "[3 5 4 1 2]\n",
            "\n",
            "\n",
            "[ 7  6  8 11  9  5 10 12  4  3 13  1]\n",
            "\n",
            "\n",
            "[1180 2170  770 1050 1680 3890 1715 1060 1890 1860  860 1430 1370 1810\n",
            " 1980 1600 1200 1250 2330 2270 1070 2450 1710 1750 1400  790 2570 2320\n",
            " 1190 1510 1090 1280  930 2360  890 2620 2600 3595 1570  920 3160  990\n",
            " 2290 2165 1640 1000 2130 2830 2250 2420 3250 1850 1590 1260 2519 1540\n",
            " 1110 1770 2720 2240 3070 2380 2390  880 1040  910 3450 2350 1900 1010\n",
            "  960 2660 1610  765 3520 1290 1960 1160 1210 1270 1440 2190 2920 1460\n",
            " 1170 1240 3140 2030 2310  700 1080 2520 2780 1560 1450 1720 2910 1620\n",
            " 1360 2070 2460 1390 2140 1320 1340 1550  940 1380 3670 2370 1130  980\n",
            " 3540 2500 1760 1030 1780 3400 2680 1670 2590  820 1220 2440 2090 1100\n",
            " 1330 1420 1690 2150 1910 1350 1940  900 1630 2714  850 1870 1950 2760\n",
            " 2020 1120 1480 1230 2280 3760 3530  830 1300 2740 1830  720 2010 3360\n",
            "  800 1730  760 1700 4750 5310  580 2653 2850 2210 2630 3500 1740 1140\n",
            " 2160 2650  970 2040 2180 2220 1660 3370 2690 1930 3150 3030 2050 2490\n",
            " 2560 1275 2580  560 1820 1840 2990 3230 1580 3480 2510 1410 2120 3300\n",
            " 3840 1500 1530 2840  833 2000 6070  950 2200 4040 1920 1490 3470 3130\n",
            " 2610 3260 2260  430 3390  630 4860 3860 2810  870 3180 2770 4030 4410\n",
            " 2400 1520 3040 6050 4740 1970 5403 3350 3580 1790  750 2860 2750 2340\n",
            " 2870 4120 3200 2550 1805 4150 1384 2060 2110 3590 2100 2540 1880 1150\n",
            " 1470 1255 1800 4370 3190 2730 4570 2470  670 2900 4670 4230 2156 1020\n",
            " 2940 2640 2710 3100 3610 4270  840 3090 2300  380 2480 3460 3060 3064\n",
            " 3000 1654 2790 1310 2230 2430 3680 2670 2208  810  740 1422  490 2080\n",
            " 3440 5670 4475  730 3410 3010  600 2960 3570 4300 3990  780 3020 5990\n",
            "  440 4460 4190 2800 2530 1650 3690 2932 3720 4250 3110 2963 4930 2950\n",
            " 5000 2452 2820 1981  640 2495 2403 5320 6720  660 2341 4210 3830 3280\n",
            " 2980 5153 1990 1646  610  710 5450 3504 3210 1782 2930  590 4280  680\n",
            " 3880 3430 3750 4130 5710 3380 3330 4700 3220 3362 3510 3810  620 4490\n",
            " 2410 3050 1008 3488 4070 3420 5770 1605  520 1088 3555 4360 3960 2700\n",
            " 4340 1552 3850 2303 3270 4350 3640 2174 4160 2496 5180 5130 6350 3770\n",
            " 2153 3780 2890 1714 2201 2970  992 3950 3527 2835 3915 1427 4870 3340\n",
            " 3620 4310 3930 4080 5400  570 3310 6110 3320 3490 3859 3710 1798 4600\n",
            " 3560 3940 3600 3800 1105 2305 3290 5050 1556 1553 4000 1657 3001 4220\n",
            "  480 3120 3740  530 3700 5230 5370 3080 4140 4430 3550 1159 1288 2880\n",
            " 4610 1122 3052 1479 7680 3820 1934 5080 2675 2506 5760 2154 4390 3240\n",
            " 1995 1689 2782 2395 4400 6200 3526 4320 2483 4380 4580 4180 2064 3650\n",
            " 1726 2019 4240 1256  500 1355 1747 1678 1833 1414 4115 3597 3170  390\n",
            " 1976 5830 2601 3920 2641 5070 2518 3910 3660 3695 4020 2803 2074 2038\n",
            " 4060 4890 2329 1264 1095  690 4090 1392 2844  902 4560 2811 4720 2168\n",
            " 5610 2683 4900 2095 4290 4050 4260 4440 6220 1175  998 2356 4500 3900\n",
            " 3831 1315 4470 4810 2286 2927 4760 8570 5140 1679 1811 2849 1676 1757\n",
            " 3730 2441 2163 5250 2795 2415 3970 4200 1068 5240 1509 1954 4820 1651\n",
            " 4100 1752 3630 2885 3154 1129 2632 1996 4010  550  410 6430 3790 2031\n",
            " 1652 2434 3316 1899 2331 2497 2216 4170 1341 1961 5584 8860 2507 5220\n",
            " 4850 5844 5530 2145  650 1982 4910 3605 1778 1463 2783 1946 1358 3870\n",
            " 1864 1845 6290 3980 2382 2979 3674 2726 5440 1295 2115 6085 3265 3136\n",
            " 6640 4620 3361 2245 2242 1078 2577 1329  420 4330 1975 7420 1788 2299\n",
            " 1092 4225 1087 1904  470 2966 2192 2253 5550 4133 4285 1216  540 9410\n",
            " 2075 5330 2166 1628 1808 1352 2557 6380 7880 2734 1363 1769 2093 1677\n",
            " 2588 5190 2298 1491 2961 5020 5980 4540  844 6120 2233 4480 4110 4770\n",
            " 2473  995 5160 1494 2007 1048 3002 4780 2155 2014 4980 2665 4830 4790\n",
            " 5010  370 2105 3006 3004 2689 4660 1746 2678 2755 2414  901 4630 2068\n",
            " 2807 2643 2181 4510 4420 1604 1435 3045 2717 2905 4940 5110 2533 6660\n",
            " 3485 2659 5090 2375 1964  866 1595  944 5480  809 5040 1764 1656 1802\n",
            "  460 2692 1544 2044 1212 4083 8020 3905 1502 4590  384 2092 6090 1615\n",
            " 7320 1396 1484 1765 5490 1453 1643 5300 1381 4065  290 1313 5430 1397\n",
            " 2793 2475 1936 3028  798 2575 3276 1584 2393 2029 3222 1072 1785 1984\n",
            "  962 2423 2052 2538 2437 2789 2906 4800 7850 2196 1847 2658 2655 3855\n",
            " 1728  963 2223 1611 2015 2448 1489 1116 3745 1002 3202 1347 1481 2311\n",
            " 2544 2584 2217 3569 3181 1921 2612 2671 2598 3284 3266 1076 2594 2718\n",
            " 1794 2481 3845 1413 1876 3148 2413 1767 5060  806 2547 1834 2024 1165\n",
            " 2134 1741 2798 1852 2099 3216 1094 2891 2432 2283 2701 1658  893 2009\n",
            " 1444 2744 3078 3065 1578 2815 4960 1571 6530 4640 1536 3172 6370 3223\n",
            " 1608 2229 3135 1408 1763 4840 1232 2502 2424 1296 1914  988 3828 3056\n",
            " 2267 1131 2796 1812 1084 2025 1564 1239 2568 1528 2628 2185 2478 2669\n",
            " 1912 2828 2425 1446 3206 2406 1419 2056 1144 2456 4950 3192  828 2529\n",
            " 2732 1987 3906 4073 2578 2738 3691 1061 2846 2542 1889 3336 3236 1451\n",
            " 1983 2313 1824 1322 1766 2301 3274 1108 2864 2716 1572 3281 2656 2398\n",
            " 1867 1613 2587 2623  894 1606 2244 2026 2238 2517 2708 2555 1405 4450\n",
            " 1248 6420 2531 1333 2198 3087 3118 1425]\n",
            "\n",
            "\n",
            "[   0  400  910 1530  730 1700  300  970  760  720  700  820  780  790\n",
            "  330 1620  360  588 1510  410  990  600  560  550 1000 1600  500 1040\n",
            "  880 1010  240  265  290  800  540  380  710  840  770  480  570 1490\n",
            "  620 1250 1270  120  650  180 1130  450 1640 1460 1020 1030  750  640\n",
            " 1070  490 1310  630 2000  390  430  850  210 1430 1950  440  220 1160\n",
            "  860  580 2060 1820 1180  200 1150 1200  680  530 1450 1170 1080  960\n",
            " 1100  280  870  460 1400 1320  660 1220  900  420 1580 1380  475  690\n",
            "  270  350  935 1370  980 1470  160  950   50  740 1780 1900  340  470\n",
            "  370  140 1760  130  610  520  890 1110  150 1720  810  190 1290  670\n",
            " 1800 1120 1810   60 1050  940  310  930 1390 1830 1300  510 1330 1590\n",
            "  920 1420 1240 1960 1560 2020 1190 2110 1280  250 2390 1230  170  830\n",
            " 1260 1410 1340  590 1500 1140  260  100  320 1480 1060 1284 1670 1350\n",
            " 2570 2590 1090  110 2500   90 1940 1550 2350 2490 1481 1360 1135 1520\n",
            " 1850 1660 2130 2600 1690  243 1210 2620 1024 1798 1610 1440 1570 1650\n",
            "  704 1910 1630 2360 1852 2090 2400 1790 2150  230   70 1680 2100 3000\n",
            " 1870 1710 2030  875 1540 2850 2170  506  906  145 2040  784 1750  374\n",
            "  518 2720 2730 1840 3480 2160 1920 2330 1860 2050 4820 1913   80 2010\n",
            " 3260 2200  415 1730  652 2196 1930  515   40 2080 2580 1548 1740  235\n",
            "  861 1890 2220  792 2070 4130 2250 2240  894 1990  768 2550  435 1008\n",
            " 2300 2610  666 3500  172 1816 2190 1245 1525 1880  862  946 1281  414\n",
            " 2180  276 1248  602  516  176  225 1275  266  283   65 2310   10 1770\n",
            " 2120  295  207  915  556  417  143  508 2810   20  274  248]\n",
            "\n",
            "\n",
            "[1955 1951 1933 1965 1987 2001 1995 1963 1960 2003 1942 1927 1977 1900\n",
            " 1979 1994 1916 1921 1969 1947 1968 1985 1941 1915 1909 1948 2005 1929\n",
            " 1981 1930 1904 1996 2000 1984 2014 1922 1959 1966 1953 1950 2008 1991\n",
            " 1954 1973 1925 1989 1972 1986 1956 2002 1992 1964 1952 1961 2006 1988\n",
            " 1962 1939 1946 1967 1975 1980 1910 1983 1978 1905 1971 2010 1945 1924\n",
            " 1990 1914 1926 2004 1923 2007 1976 1949 1999 1901 1993 1920 1997 1943\n",
            " 1957 1940 1918 1928 1974 1911 1936 1937 1982 1908 1931 1998 1913 2013\n",
            " 1907 1958 2012 1912 2011 1917 1932 1944 1902 2009 1903 1970 2015 1934\n",
            " 1938 1919 1906 1935]\n",
            "\n",
            "\n",
            "[   0 1991 2002 2010 1999 1992 2013 1994 1978 2005 2008 2003 1984 1954\n",
            " 2014 2011 1974 1983 1945 1990 1988 1957 1977 1981 1995 2000 1998 1970\n",
            " 1989 2004 1986 2009 2007 1987 1973 2006 1985 2001 1980 1971 1979 1997\n",
            " 1950 1969 1948 2015 1968 2012 1963 1951 1993 1962 1996 1972 1953 1955\n",
            " 1982 1956 1940 1976 1946 1975 1958 1964 1959 1960 1967 1965 1934 1944]\n",
            "\n",
            "\n",
            "[98178 98125 98028 98136 98074 98053 98003 98198 98146 98038 98007 98115\n",
            " 98107 98126 98019 98103 98002 98133 98040 98092 98030 98119 98112 98052\n",
            " 98027 98117 98058 98001 98056 98166 98023 98070 98148 98105 98042 98008\n",
            " 98059 98122 98144 98004 98005 98034 98075 98116 98010 98118 98199 98032\n",
            " 98045 98102 98077 98108 98168 98177 98065 98029 98006 98109 98022 98033\n",
            " 98155 98024 98011 98031 98106 98072 98188 98014 98055 98039]\n",
            "\n",
            "\n",
            "[47.5112 47.721  47.7379 ... 47.3906 47.3339 47.6502]\n",
            "\n",
            "\n",
            "[-122.257 -122.319 -122.233 -122.393 -122.045 -122.005 -122.327 -122.315\n",
            " -122.337 -122.031 -122.145 -122.292 -122.229 -122.394 -122.375 -121.962\n",
            " -122.343 -122.21  -122.306 -122.341 -122.169 -122.166 -122.172 -122.218\n",
            " -122.36  -122.314 -122.304 -122.11  -122.07  -122.357 -122.368 -122.157\n",
            " -122.31  -122.132 -122.362 -122.282 -122.18  -122.027 -122.347 -122.016\n",
            " -122.364 -122.175 -121.977 -122.371 -122.151 -122.301 -122.451 -122.322\n",
            " -122.189 -122.384 -122.369 -122.281 -122.29  -122.114 -122.122 -122.116\n",
            " -122.149 -122.339 -122.335 -122.344 -122.32  -122.297 -122.192 -122.215\n",
            " -122.16  -122.179 -122.287 -122.036 -122.073 -121.987 -122.125 -122.34\n",
            " -122.025 -122.008 -122.291 -122.365 -122.199 -122.194 -122.387 -122.372\n",
            " -122.391 -122.351 -122.386 -122.249 -122.277 -122.378 -121.958 -121.714\n",
            " -122.08  -122.196 -122.184 -122.133 -122.38  -122.082 -122.109 -122.053\n",
            " -122.349 -122.295 -122.253 -122.248 -122.303 -122.294 -122.226 -122.266\n",
            " -122.098 -122.212 -122.244 -122.39  -122.352 -121.85  -122.152 -122.054\n",
            " -122.072 -121.998 -122.296 -122.299 -122.381 -122.358 -122.128 -122.171\n",
            " -122.174 -122.026 -122.353 -121.943 -122.286 -122.336 -122.359 -122.162\n",
            " -122.3   -122.176 -121.996 -122.118 -122.193 -122.023 -122.224 -122.168\n",
            " -122.231 -122.331 -122.374 -122.182 -122.308 -122.307 -121.999 -122.376\n",
            " -122.2   -122.039 -122.102 -122.188 -122.379 -122.043 -122.153 -122.191\n",
            " -122.219 -122.312 -121.911 -121.994 -122.165 -122.37  -122.158 -122.047\n",
            " -122.284 -122.017 -122.275 -122.268 -122.367 -122.217 -122.373 -122.013\n",
            " -122.214 -122.034 -122.164 -121.899 -122.183 -121.95  -122.324 -122.216\n",
            " -122.395 -122.213 -122.345 -122.278 -122.111 -121.711 -122.27  -122.178\n",
            " -122.147 -121.772 -122.302 -122.438 -122.223 -122.042 -122.323 -122.255\n",
            " -122.4   -122.261 -122.071 -122.206 -122.272 -122.23  -122.144 -122.143\n",
            " -122.181 -122.154 -122.311 -122.274 -122.077 -122.    -122.298 -122.058\n",
            " -121.837 -122.333 -122.057 -122.252 -122.093 -122.012 -122.052 -122.354\n",
            " -122.22  -122.49  -121.875 -122.24  -122.078 -122.173 -121.854 -122.222\n",
            " -122.28  -122.137 -122.159 -121.974 -122.141 -122.029 -121.709 -122.19\n",
            " -121.97  -122.329 -122.195 -122.06  -121.959 -122.095 -122.148 -122.146\n",
            " -122.35  -121.901 -122.241 -122.129 -122.289 -122.305 -122.022 -122.385\n",
            " -121.779 -122.032 -122.402 -122.482 -122.227 -121.982 -122.161 -122.046\n",
            " -122.156 -122.127 -122.33  -122.197 -122.041 -122.103 -122.318 -122.382\n",
            " -122.271 -121.955 -122.211 -122.262 -122.258 -122.121 -122.221 -122.234\n",
            " -122.089 -122.123 -122.167 -121.909 -122.107 -122.064 -122.066 -122.062\n",
            " -122.264 -122.186 -122.087 -121.88  -121.864 -122.205 -122.363 -122.139\n",
            " -122.018 -122.225 -122.285 -122.084 -122.177 -122.056 -122.316 -122.021\n",
            " -122.348 -122.009 -122.131 -122.411 -122.198 -122.256 -122.117 -122.097\n",
            " -122.075 -121.845 -122.083 -122.259 -121.87  -122.015 -122.007 -121.86\n",
            " -122.409 -121.755 -121.972 -122.251 -122.317 -121.776 -122.115 -122.283\n",
            " -122.242 -122.001 -122.024 -122.309 -122.113 -121.771 -122.239 -122.273\n",
            " -122.396 -122.094 -122.267 -122.326 -122.13  -122.269 -121.853 -122.05\n",
            " -122.346 -122.076 -121.826 -122.124 -121.758 -122.202 -121.785 -121.872\n",
            " -122.006 -122.004 -122.321 -121.882 -122.101 -122.03  -122.185 -122.1\n",
            " -121.759 -121.965 -122.201 -122.366 -122.313 -122.405 -122.02  -122.279\n",
            " -122.355 -121.934 -122.15  -122.356 -121.993 -122.044 -122.134 -121.867\n",
            " -122.01  -121.991 -122.011 -121.983 -122.228 -122.033 -122.276 -122.119\n",
            " -121.937 -122.361 -122.325 -122.203 -122.136 -122.237 -122.209 -122.049\n",
            " -122.288 -122.106 -122.037 -122.207 -122.263 -121.915 -122.204 -122.09\n",
            " -122.069 -121.852 -121.787 -121.976 -122.377 -122.059 -122.383 -121.989\n",
            " -122.019 -122.208 -121.878 -122.328 -122.25  -122.338 -122.388 -122.265\n",
            " -122.332 -122.399 -122.397 -122.014 -121.956 -122.092 -122.028 -122.293\n",
            " -122.12  -122.035 -122.14  -122.04  -122.112 -121.906 -122.17  -122.238\n",
            " -122.512 -121.997 -121.89  -122.463 -121.908 -122.086 -122.389 -121.913\n",
            " -122.163 -121.918 -122.108 -122.502 -122.392 -122.236 -121.859 -121.981\n",
            " -122.342 -121.96  -121.978 -122.47  -121.91  -121.966 -122.065 -122.246\n",
            " -122.41  -121.879 -122.079 -122.099 -122.187 -121.98  -122.002 -122.138\n",
            " -121.898 -122.235 -122.126 -121.782 -121.995 -122.401 -121.858 -121.888\n",
            " -121.752 -122.063 -122.26  -121.78  -121.708 -121.721 -122.403 -121.945\n",
            " -122.243 -122.45  -121.927 -122.085 -122.088 -121.973 -122.055 -122.398\n",
            " -121.984 -121.912 -121.903 -121.946 -122.232 -122.412 -122.104 -122.048\n",
            " -122.479 -122.155 -121.833 -121.778 -122.003 -121.99  -121.926 -122.051\n",
            " -121.986 -122.245 -121.861 -122.431 -121.964 -122.142 -122.074 -122.247\n",
            " -122.497 -121.769 -121.827 -121.979 -121.871 -122.091 -121.754 -121.746\n",
            " -121.92  -121.992 -122.406 -121.359 -121.789 -121.707 -122.068 -122.404\n",
            " -122.334 -121.799 -121.774 -121.985 -121.865 -121.724 -122.415 -121.756\n",
            " -121.809 -122.135 -121.691 -122.038 -121.877 -121.94  -121.968 -121.988\n",
            " -121.315 -121.902 -122.514 -122.414 -121.883 -121.866 -121.744 -122.096\n",
            " -122.061 -121.881 -121.745 -122.461 -122.067 -121.868 -121.646 -121.93\n",
            " -122.105 -121.763 -121.718 -121.967 -121.777 -121.957 -121.823 -121.887\n",
            " -122.408 -122.462 -122.43  -122.456 -121.897 -121.932 -121.969 -121.916\n",
            " -122.081 -121.975 -121.735 -121.801 -121.761 -121.723 -121.924 -122.475\n",
            " -121.935 -122.407 -122.448 -122.453 -121.894 -121.936 -121.764 -122.416\n",
            " -121.905 -122.464 -121.768 -122.484 -121.738 -121.9   -121.82  -122.455\n",
            " -121.889 -122.496 -121.829 -122.505 -121.951 -121.847 -122.509 -121.961\n",
            " -121.417 -121.904 -122.503 -121.949 -121.874 -122.432 -121.971 -121.77\n",
            " -122.473 -121.896 -121.952 -122.254 -121.743 -121.933 -121.892 -121.749\n",
            " -121.473 -121.857 -122.465 -121.838 -121.954 -122.422 -121.931 -121.963\n",
            " -122.441 -121.925 -121.352 -122.511 -122.413 -121.876 -121.748 -121.818\n",
            " -121.8   -121.929 -121.698 -121.886 -121.802 -121.81  -121.762 -121.781\n",
            " -121.775 -122.44  -121.773 -121.819 -121.726 -122.459 -122.446 -121.855\n",
            " -121.736 -122.499 -122.46  -121.786 -122.421 -121.947 -122.439 -121.834\n",
            " -121.804 -122.443 -121.716 -121.848 -122.458 -122.515 -121.922 -121.953\n",
            " -121.783 -122.472 -121.944 -121.869 -121.828 -122.452 -121.831 -121.737\n",
            " -121.739 -121.863 -121.73  -121.856 -121.747 -121.893 -121.733 -121.846\n",
            " -121.821 -121.319 -121.765 -121.75  -122.506 -121.948 -121.921 -122.507\n",
            " -122.457 -121.914 -122.469 -121.792 -121.907 -121.841 -121.757 -121.788\n",
            " -121.731 -122.449 -121.316 -121.321 -122.504 -121.884 -121.803 -121.842\n",
            " -121.719 -121.766 -122.433 -122.519 -121.851 -121.402 -122.454 -122.467\n",
            " -121.325 -121.815 -121.676 -121.941 -122.445 -121.76  -121.885 -121.742\n",
            " -121.822 -121.895 -121.784 -121.701 -121.713 -121.727 -121.849 -121.835\n",
            " -122.435 -122.474 -122.444 -121.939 -121.48  -121.364 -121.767 -122.42\n",
            " -121.84  -122.425 -122.447 -121.797 -122.491 -121.917 -121.891 -121.942\n",
            " -121.862 -121.725 -121.873 -121.405 -122.486 -121.795 -121.734 -121.403]\n",
            "\n",
            "\n",
            "[1340 1690 2720 1360 1800 4760 2238 1650 1780 2390 2210 1330 1370 2140\n",
            " 1890 1610 1060 1280 1400 4110 2240 1220 2200 1030 1760 1860 1520 2630\n",
            " 2580 1390 1460 1570 2020 1590 2160 1730 1290 2620 2470 2410 3625 1580\n",
            " 3050 1228 2680  970 1190 1990 1410 1480 2730 1950 2250 2690 2960 2270\n",
            " 2570 2500 1440 2750 2221 1010 3390 3530 1640 1510 2420 1940 3240 1680\n",
            "  890 1130 3350 2350 1870 1720 1850 1900 1980 2520 1350 1750 1160 2550\n",
            " 2370 1240 1270 2990 1380 1540 2090 2640 1830 1620 1880 2340 1710 2700\n",
            " 3060 2660 1700 1970 1420 2060 2480 1550 1170 2820 1560 2230 2840 1450\n",
            " 1500 3160 1200 3400 2110 2920 1770 1070 1930 3740 2260 1670 2290 1050\n",
            " 2540 2190 2030 1230 2330 1300 1430 2770 1250 1630 2590 2130 1100 3836\n",
            " 1320 2120 3070 1910 2080 1960 2280 1150 3430 2070 2600  830 1260 3120\n",
            " 2010 1660 1600 2380 3890 4180 2653 2670 3920 2300 2310 2320 3150 1740\n",
            " 2400 4550 2510 2440 2880 3860 2150 1310 1820 3080  880 2560 3470 1020\n",
            " 2040 2610 1810 2860 3480 3130 3360 4050 2450 1790 3180 3600 2000 2430\n",
            " 2850 4680 2360 3930 1490 2460 2077 1920 3630 3220 2100 3230 4300 3850\n",
            " 2424 2530 3030 2830 2900 2950 1470  940 2740 4210 3340 3980 2180 3715\n",
            " 2050 1080 2095 1000 3330 2170 1408 1530 2760 3110  950 3000 1307 2220\n",
            " 4190 3440 3250 1110 2870 1210 2910 1120 4230 1708 3090 3270 2970 1180\n",
            " 3100 4100 2930 3510 2688 1840 2490 4090 2810 3260 3680 3420 1654 1365\n",
            "  980 1677 1140 3640 3460 3140 1502 3720 2790 2940  990 2890  860 4750\n",
            " 1525 3950 5790  760 2234  960 3210 2780 2800 2305 2665 3620 2710 4320\n",
            " 2650 3370 1509 1277 1981 2434 4640 2242 3040 3970 3200 4600  840 3290\n",
            " 2214 1162 3010 5600 3820 3540 1975 4800  740 3990 3170 1576 1768 3310\n",
            " 2980 1429 3900 3380  820 1090 4060 3910 3190 3450 3730  620 3020 3760\n",
            " 3320 1132 3300 3770 3960  870 3560 4620 3520 1572 3490 1088 3159 4470\n",
            " 3570 4890 3690 3280 2083 3780  920 1941 1566  850 2496 1040 3410 4240\n",
            " 4670 4350 1714 5380 4330 3830 5000 2144 1494 1357  930 3580 4250 4080\n",
            " 3660 1458 3736 1894 2037 1295 4170 3750 3550 4630 1439 3500 2091  900\n",
            " 3880 3710 1616  720  800 2315 1564 2767 3721 4650 4020  780 1728 2027\n",
            " 1264 1404 1459 2028 3639 1943 3425 2641 2114 1309 2412 2517 1802 2011\n",
            " 1466 1414 3193 1845 1156 3670 1696 5340 4440 1745 1884 4690 4920 2406\n",
            " 4160 3810 4480 2848 1746 2634 2049 5330 1536 2273 3056 4010 4700  910\n",
            " 2125 1665 2683 3790  700 1855  750 1078 4150 4340 2344 1098 1175 1188\n",
            " 3700 3840 4042 2518 3800 2488 3590 2052  810 1528 5030 4740 5070 2967\n",
            " 4280 2724 3610 3940 4940 4770 1811 4830 2876 1805 1216 5170 1304 2474\n",
            " 4590 4130 1492 1364 2168 4140 3543 1303 2005 3650 2583 4310 2451 1448\n",
            " 2955 2142  790 1638 2554 2441 2216 4220 1961 4540  770 4200 3413 1664\n",
            " 2136 3568 4510 1484 1358 2106 1834 2014 4390 4570 2175 6110 4260  710\n",
            " 2112 1934 1518 1302 2622 2619 2382 4290 4560 4000 1336 3112 4070 1468\n",
            " 1571 2605 1138 5110 4850 2165 4410 1678 5610 1984 4660 3870 4370  460\n",
            " 4610 1914 3515 2246 1786 2109 2326 2728 4400 4950 1767 2054 5500 2555\n",
            " 3674 2765 1862 1352 4030  399 2415 2901 1815 2236 2253 2004 1356 2403\n",
            " 1137 1256 4930 4040 2376 4520 4490 2189 2566 2396 1282 2155 1056 2389\n",
            " 2256 3618 1326 1168 4913  806 1369 2405 2875 1425 5220 1442 2333 3335\n",
            " 1321 3045 1546 4730 2697 2822 2076 1757 4780  952 4270 2075 2667 1092\n",
            " 1217 1716 1792 2961 1125 1463 1886  670 4460 2336 3557 5200 2258 1377\n",
            " 2019 2092 4900 2615 1639 1765 1554 1381 4120 5080 1445 2793 2475  998\n",
            " 2384 2575 1398 1584 2439 2197 2029 4362 1443 4420 1691 2495 2437 2547\n",
            " 6210 2009 1847 1346 2578 2879 2255 2815 1608  690 2425 1481 2458 2358\n",
            " 2056 1921 2419 2996 2502 1798 3087 1076 2981 2363 3191 1763 1876 1949\n",
            " 2598 1979 1415 2002 2574 2166 3726 2099 2154 1522 1544 2912 2648 1658\n",
            " 2755 2798 1405 2704 2738 3008 2586 2873 1232 2597 2516 1537 1128 2849\n",
            " 1399 1131 1569 2381 1084 2304 4530 2297 2279 2303 2669 4225 2513 2725\n",
            " 1955 2527 4443 2478 1919 1813 2533  828 2015 3078 4495 2673 2316 2647\n",
            " 3402 3494 2156 3236 2612 2323 2409 2354 1285 2616 1427 1516 2456 2844\n",
            " 1495 2594 2604 1268 2198 3038 2927]\n",
            "\n",
            "\n",
            "[5650 7639 8062 ... 5731 1509 2007]\n",
            "\n",
            "\n"
          ]
        }
      ]
    },
    {
      "cell_type": "code",
      "metadata": {
        "colab": {
          "base_uri": "https://localhost:8080/"
        },
        "id": "OXJ3O6xcw2cO",
        "outputId": "7c5a9f27-1038-4d8a-94c3-1da339f7a4c8"
      },
      "source": [
        "#Checking for missing values \n",
        "df.isnull().sum().sum()"
      ],
      "execution_count": 112,
      "outputs": [
        {
          "output_type": "execute_result",
          "data": {
            "text/plain": [
              "0"
            ]
          },
          "metadata": {},
          "execution_count": 112
        }
      ]
    },
    {
      "cell_type": "code",
      "metadata": {
        "id": "iB5frqyfzST1"
      },
      "source": [
        "#Droping a column\n",
        "df.drop(['id','zipcode'],axis=1,inplace=True)"
      ],
      "execution_count": 113,
      "outputs": []
    },
    {
      "cell_type": "markdown",
      "metadata": {
        "id": "aIOa7Lf2xO41"
      },
      "source": [
        "## Exploratory Data Analysis"
      ]
    },
    {
      "cell_type": "markdown",
      "metadata": {
        "id": "oKtIwuf_xYxc"
      },
      "source": [
        "### Univeriate Analysis"
      ]
    },
    {
      "cell_type": "code",
      "metadata": {
        "colab": {
          "base_uri": "https://localhost:8080/",
          "height": 320
        },
        "id": "JCqL2p6mxWgL",
        "outputId": "aee4684a-d28a-47a6-b6c5-bb5e0ac6fc2d"
      },
      "source": [
        "#data Description \n",
        "df.describe()"
      ],
      "execution_count": 115,
      "outputs": [
        {
          "output_type": "execute_result",
          "data": {
            "text/html": [
              "<div>\n",
              "<style scoped>\n",
              "    .dataframe tbody tr th:only-of-type {\n",
              "        vertical-align: middle;\n",
              "    }\n",
              "\n",
              "    .dataframe tbody tr th {\n",
              "        vertical-align: top;\n",
              "    }\n",
              "\n",
              "    .dataframe thead th {\n",
              "        text-align: right;\n",
              "    }\n",
              "</style>\n",
              "<table border=\"1\" class=\"dataframe\">\n",
              "  <thead>\n",
              "    <tr style=\"text-align: right;\">\n",
              "      <th></th>\n",
              "      <th>price</th>\n",
              "      <th>bedrooms</th>\n",
              "      <th>bathrooms</th>\n",
              "      <th>sqft_living</th>\n",
              "      <th>sqft_lot</th>\n",
              "      <th>floors</th>\n",
              "      <th>waterfront</th>\n",
              "      <th>view</th>\n",
              "      <th>condition</th>\n",
              "      <th>grade</th>\n",
              "      <th>sqft_above</th>\n",
              "      <th>sqft_basement</th>\n",
              "      <th>yr_built</th>\n",
              "      <th>yr_renovated</th>\n",
              "      <th>lat</th>\n",
              "      <th>long</th>\n",
              "      <th>sqft_living15</th>\n",
              "      <th>sqft_lot15</th>\n",
              "    </tr>\n",
              "  </thead>\n",
              "  <tbody>\n",
              "    <tr>\n",
              "      <th>count</th>\n",
              "      <td>2.161300e+04</td>\n",
              "      <td>21613.000000</td>\n",
              "      <td>21613.000000</td>\n",
              "      <td>21613.000000</td>\n",
              "      <td>2.161300e+04</td>\n",
              "      <td>21613.000000</td>\n",
              "      <td>21613.000000</td>\n",
              "      <td>21613.000000</td>\n",
              "      <td>21613.000000</td>\n",
              "      <td>21613.000000</td>\n",
              "      <td>21613.000000</td>\n",
              "      <td>21613.000000</td>\n",
              "      <td>21613.000000</td>\n",
              "      <td>21613.000000</td>\n",
              "      <td>21613.000000</td>\n",
              "      <td>21613.000000</td>\n",
              "      <td>21613.000000</td>\n",
              "      <td>21613.000000</td>\n",
              "    </tr>\n",
              "    <tr>\n",
              "      <th>mean</th>\n",
              "      <td>5.401822e+05</td>\n",
              "      <td>3.370842</td>\n",
              "      <td>2.114757</td>\n",
              "      <td>2079.899736</td>\n",
              "      <td>1.510697e+04</td>\n",
              "      <td>1.494309</td>\n",
              "      <td>0.007542</td>\n",
              "      <td>0.234303</td>\n",
              "      <td>3.409430</td>\n",
              "      <td>7.656873</td>\n",
              "      <td>1788.390691</td>\n",
              "      <td>291.509045</td>\n",
              "      <td>1971.005136</td>\n",
              "      <td>84.402258</td>\n",
              "      <td>47.560053</td>\n",
              "      <td>-122.213896</td>\n",
              "      <td>1986.552492</td>\n",
              "      <td>12768.455652</td>\n",
              "    </tr>\n",
              "    <tr>\n",
              "      <th>std</th>\n",
              "      <td>3.673622e+05</td>\n",
              "      <td>0.930062</td>\n",
              "      <td>0.770163</td>\n",
              "      <td>918.440897</td>\n",
              "      <td>4.142051e+04</td>\n",
              "      <td>0.539989</td>\n",
              "      <td>0.086517</td>\n",
              "      <td>0.766318</td>\n",
              "      <td>0.650743</td>\n",
              "      <td>1.175459</td>\n",
              "      <td>828.090978</td>\n",
              "      <td>442.575043</td>\n",
              "      <td>29.373411</td>\n",
              "      <td>401.679240</td>\n",
              "      <td>0.138564</td>\n",
              "      <td>0.140828</td>\n",
              "      <td>685.391304</td>\n",
              "      <td>27304.179631</td>\n",
              "    </tr>\n",
              "    <tr>\n",
              "      <th>min</th>\n",
              "      <td>7.500000e+04</td>\n",
              "      <td>0.000000</td>\n",
              "      <td>0.000000</td>\n",
              "      <td>290.000000</td>\n",
              "      <td>5.200000e+02</td>\n",
              "      <td>1.000000</td>\n",
              "      <td>0.000000</td>\n",
              "      <td>0.000000</td>\n",
              "      <td>1.000000</td>\n",
              "      <td>1.000000</td>\n",
              "      <td>290.000000</td>\n",
              "      <td>0.000000</td>\n",
              "      <td>1900.000000</td>\n",
              "      <td>0.000000</td>\n",
              "      <td>47.155900</td>\n",
              "      <td>-122.519000</td>\n",
              "      <td>399.000000</td>\n",
              "      <td>651.000000</td>\n",
              "    </tr>\n",
              "    <tr>\n",
              "      <th>25%</th>\n",
              "      <td>3.219500e+05</td>\n",
              "      <td>3.000000</td>\n",
              "      <td>1.750000</td>\n",
              "      <td>1427.000000</td>\n",
              "      <td>5.040000e+03</td>\n",
              "      <td>1.000000</td>\n",
              "      <td>0.000000</td>\n",
              "      <td>0.000000</td>\n",
              "      <td>3.000000</td>\n",
              "      <td>7.000000</td>\n",
              "      <td>1190.000000</td>\n",
              "      <td>0.000000</td>\n",
              "      <td>1951.000000</td>\n",
              "      <td>0.000000</td>\n",
              "      <td>47.471000</td>\n",
              "      <td>-122.328000</td>\n",
              "      <td>1490.000000</td>\n",
              "      <td>5100.000000</td>\n",
              "    </tr>\n",
              "    <tr>\n",
              "      <th>50%</th>\n",
              "      <td>4.500000e+05</td>\n",
              "      <td>3.000000</td>\n",
              "      <td>2.250000</td>\n",
              "      <td>1910.000000</td>\n",
              "      <td>7.618000e+03</td>\n",
              "      <td>1.500000</td>\n",
              "      <td>0.000000</td>\n",
              "      <td>0.000000</td>\n",
              "      <td>3.000000</td>\n",
              "      <td>7.000000</td>\n",
              "      <td>1560.000000</td>\n",
              "      <td>0.000000</td>\n",
              "      <td>1975.000000</td>\n",
              "      <td>0.000000</td>\n",
              "      <td>47.571800</td>\n",
              "      <td>-122.230000</td>\n",
              "      <td>1840.000000</td>\n",
              "      <td>7620.000000</td>\n",
              "    </tr>\n",
              "    <tr>\n",
              "      <th>75%</th>\n",
              "      <td>6.450000e+05</td>\n",
              "      <td>4.000000</td>\n",
              "      <td>2.500000</td>\n",
              "      <td>2550.000000</td>\n",
              "      <td>1.068800e+04</td>\n",
              "      <td>2.000000</td>\n",
              "      <td>0.000000</td>\n",
              "      <td>0.000000</td>\n",
              "      <td>4.000000</td>\n",
              "      <td>8.000000</td>\n",
              "      <td>2210.000000</td>\n",
              "      <td>560.000000</td>\n",
              "      <td>1997.000000</td>\n",
              "      <td>0.000000</td>\n",
              "      <td>47.678000</td>\n",
              "      <td>-122.125000</td>\n",
              "      <td>2360.000000</td>\n",
              "      <td>10083.000000</td>\n",
              "    </tr>\n",
              "    <tr>\n",
              "      <th>max</th>\n",
              "      <td>7.700000e+06</td>\n",
              "      <td>33.000000</td>\n",
              "      <td>8.000000</td>\n",
              "      <td>13540.000000</td>\n",
              "      <td>1.651359e+06</td>\n",
              "      <td>3.500000</td>\n",
              "      <td>1.000000</td>\n",
              "      <td>4.000000</td>\n",
              "      <td>5.000000</td>\n",
              "      <td>13.000000</td>\n",
              "      <td>9410.000000</td>\n",
              "      <td>4820.000000</td>\n",
              "      <td>2015.000000</td>\n",
              "      <td>2015.000000</td>\n",
              "      <td>47.777600</td>\n",
              "      <td>-121.315000</td>\n",
              "      <td>6210.000000</td>\n",
              "      <td>871200.000000</td>\n",
              "    </tr>\n",
              "  </tbody>\n",
              "</table>\n",
              "</div>"
            ],
            "text/plain": [
              "              price      bedrooms  ...  sqft_living15     sqft_lot15\n",
              "count  2.161300e+04  21613.000000  ...   21613.000000   21613.000000\n",
              "mean   5.401822e+05      3.370842  ...    1986.552492   12768.455652\n",
              "std    3.673622e+05      0.930062  ...     685.391304   27304.179631\n",
              "min    7.500000e+04      0.000000  ...     399.000000     651.000000\n",
              "25%    3.219500e+05      3.000000  ...    1490.000000    5100.000000\n",
              "50%    4.500000e+05      3.000000  ...    1840.000000    7620.000000\n",
              "75%    6.450000e+05      4.000000  ...    2360.000000   10083.000000\n",
              "max    7.700000e+06     33.000000  ...    6210.000000  871200.000000\n",
              "\n",
              "[8 rows x 18 columns]"
            ]
          },
          "metadata": {},
          "execution_count": 115
        }
      ]
    },
    {
      "cell_type": "code",
      "metadata": {
        "colab": {
          "base_uri": "https://localhost:8080/",
          "height": 279
        },
        "id": "0mlvOEVLzOa9",
        "outputId": "aeda7055-0843-4bf4-aded-2f81996a260f"
      },
      "source": [
        "#Plotting a histogram showing houses with a waterfront\n",
        "sns.countplot(df['waterfront'])\n",
        "plt.show()"
      ],
      "execution_count": 116,
      "outputs": [
        {
          "output_type": "display_data",
          "data": {
            "image/png": "[encoded data removed]",
            "text/plain": [
              "<Figure size 432x288 with 1 Axes>"
            ]
          },
          "metadata": {
            "needs_background": "light"
          }
        }
      ]
    },
    {
      "cell_type": "markdown",
      "metadata": {
        "id": "0zeEe6bc0Zoq"
      },
      "source": [
        "House that have no waterfront are sold more than the house a waterfront"
      ]
    },
    {
      "cell_type": "code",
      "metadata": {
        "colab": {
          "base_uri": "https://localhost:8080/",
          "height": 279
        },
        "id": "VEYBdOg5qh86",
        "outputId": "4f1d07f3-04fe-4c8c-d9f0-a2d40529bcbb"
      },
      "source": [
        "#Bar plot showing number of bedrooms \n",
        "sns.countplot(df['bedrooms'])\n",
        "plt.show()"
      ],
      "execution_count": 117,
      "outputs": [
        {
          "output_type": "display_data",
          "data": {
            "image/png": "[encoded data removed]",
            "text/plain": [
              "<Figure size 432x288 with 1 Axes>"
            ]
          },
          "metadata": {
            "needs_background": "light"
          }
        }
      ]
    },
    {
      "cell_type": "markdown",
      "metadata": {
        "id": "Lh8C7-xWqv-Z"
      },
      "source": [
        "Houses with 3 bedroom are the most sold followed by houses with 4 bedroom. This are the houses that are  mostly attactive to buyers.The least sold houses are houses with 6,1 and 7 bedrooms"
      ]
    },
    {
      "cell_type": "markdown",
      "metadata": {
        "id": "wuatQVag1Tjv"
      },
      "source": [
        "### Biavariate Analysis"
      ]
    },
    {
      "cell_type": "code",
      "metadata": {
        "colab": {
          "base_uri": "https://localhost:8080/",
          "height": 295
        },
        "id": "X8JcMWnv1Yia",
        "outputId": "13236457-b94a-42f1-e923-afa1b7ee9a3f"
      },
      "source": [
        "#Plot a scatter plot between price and no of bedrooms \n",
        "plt.scatter(df['price'], df['bedrooms'])\n",
        "plt.xlabel(\"Price\")\n",
        "plt.ylabel(\"bedrooms\")\n",
        "plt.title(\"Price aganist no. of Bedrooms\")\n",
        "plt.show()"
      ],
      "execution_count": 118,
      "outputs": [
        {
          "output_type": "display_data",
          "data": {
            "image/png": "[encoded data removed]",
            "text/plain": [
              "<Figure size 432x288 with 1 Axes>"
            ]
          },
          "metadata": {
            "needs_background": "light"
          }
        }
      ]
    },
    {
      "cell_type": "markdown",
      "metadata": {
        "id": "YvfF1zQg2LC4"
      },
      "source": [
        "The is a strong relationship between the price of house and number of bedrooms"
      ]
    },
    {
      "cell_type": "code",
      "metadata": {
        "colab": {
          "base_uri": "https://localhost:8080/",
          "height": 186
        },
        "id": "3H4Z4XVcdf3w",
        "outputId": "5187f0fb-f048-4652-a30b-104f6c3c19ec"
      },
      "source": [
        "#Displace Ratio of price by waterfront\n",
        "ratio = df.groupby('waterfront')['price'].mean()\n",
        "ratio.plot.barh(figsize=(5,2), title='Ratio of price by waterfront')\n",
        "plt.show()"
      ],
      "execution_count": 119,
      "outputs": [
        {
          "output_type": "display_data",
          "data": {
            "image/png": "[encoded data removed]",
            "text/plain": [
              "<Figure size 360x144 with 1 Axes>"
            ]
          },
          "metadata": {
            "needs_background": "light"
          }
        }
      ]
    },
    {
      "cell_type": "markdown",
      "metadata": {
        "id": "-UC7ihQ5eoGx"
      },
      "source": [
        "Houses with a waterfront have a high price compared to houses without a waterfront "
      ]
    },
    {
      "cell_type": "code",
      "metadata": {
        "colab": {
          "base_uri": "https://localhost:8080/",
          "height": 659
        },
        "id": "_yL0pzHa2Wsw",
        "outputId": "f2b72029-5471-4e46-cb4b-4a9bb3b88f1b"
      },
      "source": [
        "#Plotting a heat map to show correlation between the different variables\n",
        "plt.figure(figsize=(14,10))\n",
        "sns.heatmap(df.corr(),annot=True,cmap=\"Reds\",fmt=\".2f\");\n",
        "plt.show()"
      ],
      "execution_count": 120,
      "outputs": [
        {
          "output_type": "display_data",
          "data": {
            "image/png": "[encoded data removed]",
            "text/plain": [
              "<Figure size 1008x720 with 2 Axes>"
            ]
          },
          "metadata": {
            "needs_background": "light"
          }
        }
      ]
    },
    {
      "cell_type": "markdown",
      "metadata": {
        "id": "Pg1xR1lq2myf"
      },
      "source": [
        "\n",
        "\n",
        "1.   There is a weak negative correlation bewteen floors and sqft_lot15\n",
        "2.   There is a strong positive correlation between price and sqft_living.\n",
        "3. There is weak positive correlation between long and sqft_above\n",
        "4. There s strong positive correlation between grade and price.\n",
        "\n"
      ]
    },
    {
      "cell_type": "markdown",
      "metadata": {
        "id": "9w-uIMsH4tBu"
      },
      "source": [
        "### Multivariate Analysis"
      ]
    },
    {
      "cell_type": "markdown",
      "metadata": {
        "id": "TxgObJE242Yl"
      },
      "source": [
        "#### Performing Regression Analysis"
      ]
    },
    {
      "cell_type": "markdown",
      "metadata": {
        "id": "U65BhaEVe-LO"
      },
      "source": [
        "#### Multiple Linear Reggression"
      ]
    },
    {
      "cell_type": "code",
      "metadata": {
        "id": "9K2kMTVb4w8s"
      },
      "source": [
        "#Prepare the Data and split to target and feature set \n",
        "X = df.drop('price',axis=1)\n",
        "Y = df['price']"
      ],
      "execution_count": 121,
      "outputs": []
    },
    {
      "cell_type": "code",
      "metadata": {
        "colab": {
          "base_uri": "https://localhost:8080/",
          "height": 603
        },
        "id": "4Jc5AVptgrjV",
        "outputId": "d94ccf2e-8994-4c7b-e0c2-58cb14c9068f"
      },
      "source": [
        "#check for multicollinearity \n",
        "independent_only = X.corr()\n",
        "#computing the VIF\n",
        "pd.DataFrame(np.linalg.inv(independent_only.values), index = independent_only.index, columns=independent_only.columns)"
      ],
      "execution_count": 122,
      "outputs": [
        {
          "output_type": "execute_result",
          "data": {
            "text/html": [
              "<div>\n",
              "<style scoped>\n",
              "    .dataframe tbody tr th:only-of-type {\n",
              "        vertical-align: middle;\n",
              "    }\n",
              "\n",
              "    .dataframe tbody tr th {\n",
              "        vertical-align: top;\n",
              "    }\n",
              "\n",
              "    .dataframe thead th {\n",
              "        text-align: right;\n",
              "    }\n",
              "</style>\n",
              "<table border=\"1\" class=\"dataframe\">\n",
              "  <thead>\n",
              "    <tr style=\"text-align: right;\">\n",
              "      <th></th>\n",
              "      <th>bedrooms</th>\n",
              "      <th>bathrooms</th>\n",
              "      <th>sqft_living</th>\n",
              "      <th>sqft_lot</th>\n",
              "      <th>floors</th>\n",
              "      <th>waterfront</th>\n",
              "      <th>view</th>\n",
              "      <th>condition</th>\n",
              "      <th>grade</th>\n",
              "      <th>sqft_above</th>\n",
              "      <th>sqft_basement</th>\n",
              "      <th>yr_built</th>\n",
              "      <th>yr_renovated</th>\n",
              "      <th>lat</th>\n",
              "      <th>long</th>\n",
              "      <th>sqft_living15</th>\n",
              "      <th>sqft_lot15</th>\n",
              "    </tr>\n",
              "  </thead>\n",
              "  <tbody>\n",
              "    <tr>\n",
              "      <th>bedrooms</th>\n",
              "      <td>1.648202</td>\n",
              "      <td>-0.463185</td>\n",
              "      <td>-1.907822e-01</td>\n",
              "      <td>0.049487</td>\n",
              "      <td>0.057925</td>\n",
              "      <td>0.062148</td>\n",
              "      <td>0.120891</td>\n",
              "      <td>-0.058540</td>\n",
              "      <td>0.303033</td>\n",
              "      <td>-7.023466e-01</td>\n",
              "      <td>-3.867043e-01</td>\n",
              "      <td>0.122118</td>\n",
              "      <td>0.043678</td>\n",
              "      <td>0.065639</td>\n",
              "      <td>-0.017980</td>\n",
              "      <td>0.015082</td>\n",
              "      <td>0.086147</td>\n",
              "    </tr>\n",
              "    <tr>\n",
              "      <th>bathrooms</th>\n",
              "      <td>-0.463185</td>\n",
              "      <td>3.349742</td>\n",
              "      <td>-5.068434e+00</td>\n",
              "      <td>-0.024062</td>\n",
              "      <td>-0.670781</td>\n",
              "      <td>0.009193</td>\n",
              "      <td>-0.038108</td>\n",
              "      <td>-0.141075</td>\n",
              "      <td>-0.270100</td>\n",
              "      <td>3.289314e+00</td>\n",
              "      <td>1.365679e+00</td>\n",
              "      <td>-0.942238</td>\n",
              "      <td>-0.260709</td>\n",
              "      <td>-0.033209</td>\n",
              "      <td>0.035599</td>\n",
              "      <td>0.086847</td>\n",
              "      <td>0.071861</td>\n",
              "    </tr>\n",
              "    <tr>\n",
              "      <th>sqft_living</th>\n",
              "      <td>-0.187973</td>\n",
              "      <td>-5.067275</td>\n",
              "      <td>-3.387473e+13</td>\n",
              "      <td>-0.122093</td>\n",
              "      <td>0.503602</td>\n",
              "      <td>0.454949</td>\n",
              "      <td>-0.609096</td>\n",
              "      <td>-0.350313</td>\n",
              "      <td>-0.778931</td>\n",
              "      <td>3.054236e+13</td>\n",
              "      <td>1.632343e+13</td>\n",
              "      <td>1.690044</td>\n",
              "      <td>0.068118</td>\n",
              "      <td>-0.004222</td>\n",
              "      <td>-0.060086</td>\n",
              "      <td>-0.965288</td>\n",
              "      <td>-0.188006</td>\n",
              "    </tr>\n",
              "    <tr>\n",
              "      <th>sqft_lot</th>\n",
              "      <td>0.049487</td>\n",
              "      <td>-0.024062</td>\n",
              "      <td>-1.241160e-01</td>\n",
              "      <td>2.102517</td>\n",
              "      <td>0.044994</td>\n",
              "      <td>0.027346</td>\n",
              "      <td>-0.059219</td>\n",
              "      <td>0.030814</td>\n",
              "      <td>-0.053721</td>\n",
              "      <td>-8.770332e-02</td>\n",
              "      <td>1.714336e-02</td>\n",
              "      <td>0.099166</td>\n",
              "      <td>0.021501</td>\n",
              "      <td>0.052882</td>\n",
              "      <td>-0.132009</td>\n",
              "      <td>0.164274</td>\n",
              "      <td>-1.459343</td>\n",
              "    </tr>\n",
              "    <tr>\n",
              "      <th>floors</th>\n",
              "      <td>0.057925</td>\n",
              "      <td>-0.670781</td>\n",
              "      <td>5.044721e-01</td>\n",
              "      <td>0.044994</td>\n",
              "      <td>1.994364</td>\n",
              "      <td>-0.002964</td>\n",
              "      <td>-0.055079</td>\n",
              "      <td>0.106241</td>\n",
              "      <td>-0.222291</td>\n",
              "      <td>-9.674841e-01</td>\n",
              "      <td>3.643542e-01</td>\n",
              "      <td>-0.455090</td>\n",
              "      <td>-0.076818</td>\n",
              "      <td>-0.159291</td>\n",
              "      <td>0.239472</td>\n",
              "      <td>0.294212</td>\n",
              "      <td>0.071066</td>\n",
              "    </tr>\n",
              "    <tr>\n",
              "      <th>waterfront</th>\n",
              "      <td>0.062148</td>\n",
              "      <td>0.009193</td>\n",
              "      <td>4.554872e-01</td>\n",
              "      <td>0.027346</td>\n",
              "      <td>-0.002964</td>\n",
              "      <td>1.203460</td>\n",
              "      <td>-0.490637</td>\n",
              "      <td>-0.014858</td>\n",
              "      <td>0.048109</td>\n",
              "      <td>-5.218530e-01</td>\n",
              "      <td>-2.221062e-01</td>\n",
              "      <td>-0.024535</td>\n",
              "      <td>-0.065903</td>\n",
              "      <td>0.014076</td>\n",
              "      <td>0.017480</td>\n",
              "      <td>0.051600</td>\n",
              "      <td>-0.018259</td>\n",
              "    </tr>\n",
              "    <tr>\n",
              "      <th>view</th>\n",
              "      <td>0.120891</td>\n",
              "      <td>-0.038108</td>\n",
              "      <td>-6.090504e-01</td>\n",
              "      <td>-0.059219</td>\n",
              "      <td>-0.055079</td>\n",
              "      <td>-0.490637</td>\n",
              "      <td>1.423253</td>\n",
              "      <td>-0.007826</td>\n",
              "      <td>-0.178185</td>\n",
              "      <td>5.826639e-01</td>\n",
              "      <td>3.008186e-02</td>\n",
              "      <td>0.173360</td>\n",
              "      <td>-0.037118</td>\n",
              "      <td>0.092409</td>\n",
              "      <td>0.133627</td>\n",
              "      <td>-0.307824</td>\n",
              "      <td>-0.008805</td>\n",
              "    </tr>\n",
              "    <tr>\n",
              "      <th>condition</th>\n",
              "      <td>-0.058540</td>\n",
              "      <td>-0.141075</td>\n",
              "      <td>-3.516944e-01</td>\n",
              "      <td>0.030814</td>\n",
              "      <td>0.106241</td>\n",
              "      <td>-0.014858</td>\n",
              "      <td>-0.007826</td>\n",
              "      <td>1.233829</td>\n",
              "      <td>-0.062538</td>\n",
              "      <td>3.799446e-01</td>\n",
              "      <td>7.974772e-02</td>\n",
              "      <td>0.536628</td>\n",
              "      <td>0.203097</td>\n",
              "      <td>0.093567</td>\n",
              "      <td>-0.078239</td>\n",
              "      <td>0.055467</td>\n",
              "      <td>-0.026750</td>\n",
              "    </tr>\n",
              "    <tr>\n",
              "      <th>grade</th>\n",
              "      <td>0.303033</td>\n",
              "      <td>-0.270100</td>\n",
              "      <td>-7.764858e-01</td>\n",
              "      <td>-0.053721</td>\n",
              "      <td>-0.222291</td>\n",
              "      <td>0.048109</td>\n",
              "      <td>-0.178185</td>\n",
              "      <td>-0.062538</td>\n",
              "      <td>3.412869</td>\n",
              "      <td>-9.062307e-01</td>\n",
              "      <td>-1.078122e-01</td>\n",
              "      <td>-0.651856</td>\n",
              "      <td>-0.073269</td>\n",
              "      <td>-0.315424</td>\n",
              "      <td>0.357043</td>\n",
              "      <td>-0.922139</td>\n",
              "      <td>0.072651</td>\n",
              "    </tr>\n",
              "    <tr>\n",
              "      <th>sqft_above</th>\n",
              "      <td>-0.702025</td>\n",
              "      <td>3.297442</td>\n",
              "      <td>3.054236e+13</td>\n",
              "      <td>-0.089401</td>\n",
              "      <td>-0.966142</td>\n",
              "      <td>-0.521263</td>\n",
              "      <td>0.582320</td>\n",
              "      <td>0.378760</td>\n",
              "      <td>-0.903598</td>\n",
              "      <td>-2.753782e+13</td>\n",
              "      <td>-1.471765e+13</td>\n",
              "      <td>-0.992104</td>\n",
              "      <td>-0.060663</td>\n",
              "      <td>0.170841</td>\n",
              "      <td>-0.254070</td>\n",
              "      <td>-0.655806</td>\n",
              "      <td>-0.006915</td>\n",
              "    </tr>\n",
              "    <tr>\n",
              "      <th>sqft_basement</th>\n",
              "      <td>-0.389886</td>\n",
              "      <td>1.364349</td>\n",
              "      <td>1.632343e+13</td>\n",
              "      <td>0.016105</td>\n",
              "      <td>0.364277</td>\n",
              "      <td>-0.221823</td>\n",
              "      <td>0.030198</td>\n",
              "      <td>0.079197</td>\n",
              "      <td>-0.106904</td>\n",
              "      <td>-1.471765e+13</td>\n",
              "      <td>-7.865878e+12</td>\n",
              "      <td>-0.556535</td>\n",
              "      <td>-0.045018</td>\n",
              "      <td>-0.094213</td>\n",
              "      <td>0.212647</td>\n",
              "      <td>0.004304</td>\n",
              "      <td>0.030267</td>\n",
              "    </tr>\n",
              "    <tr>\n",
              "      <th>yr_built</th>\n",
              "      <td>0.122118</td>\n",
              "      <td>-0.942238</td>\n",
              "      <td>1.685986e+00</td>\n",
              "      <td>0.099166</td>\n",
              "      <td>-0.455090</td>\n",
              "      <td>-0.024535</td>\n",
              "      <td>0.173360</td>\n",
              "      <td>0.536628</td>\n",
              "      <td>-0.651856</td>\n",
              "      <td>-9.884452e-01</td>\n",
              "      <td>-5.545797e-01</td>\n",
              "      <td>2.390955</td>\n",
              "      <td>0.528230</td>\n",
              "      <td>0.358035</td>\n",
              "      <td>-0.619055</td>\n",
              "      <td>0.045231</td>\n",
              "      <td>-0.031344</td>\n",
              "    </tr>\n",
              "    <tr>\n",
              "      <th>yr_renovated</th>\n",
              "      <td>0.043678</td>\n",
              "      <td>-0.260709</td>\n",
              "      <td>6.750827e-02</td>\n",
              "      <td>0.021501</td>\n",
              "      <td>-0.076818</td>\n",
              "      <td>-0.065903</td>\n",
              "      <td>-0.037118</td>\n",
              "      <td>0.203097</td>\n",
              "      <td>-0.073269</td>\n",
              "      <td>-6.011363e-02</td>\n",
              "      <td>-4.472402e-02</td>\n",
              "      <td>0.528230</td>\n",
              "      <td>1.149737</td>\n",
              "      <td>0.052809</td>\n",
              "      <td>-0.070867</td>\n",
              "      <td>0.094531</td>\n",
              "      <td>-0.021888</td>\n",
              "    </tr>\n",
              "    <tr>\n",
              "      <th>lat</th>\n",
              "      <td>0.065639</td>\n",
              "      <td>-0.033209</td>\n",
              "      <td>-4.948938e-03</td>\n",
              "      <td>0.052882</td>\n",
              "      <td>-0.159291</td>\n",
              "      <td>0.014076</td>\n",
              "      <td>0.092409</td>\n",
              "      <td>0.093567</td>\n",
              "      <td>-0.315424</td>\n",
              "      <td>1.714965e-01</td>\n",
              "      <td>-9.386274e-02</td>\n",
              "      <td>0.358035</td>\n",
              "      <td>0.052809</td>\n",
              "      <td>1.123517</td>\n",
              "      <td>0.035144</td>\n",
              "      <td>-0.055838</td>\n",
              "      <td>0.033785</td>\n",
              "    </tr>\n",
              "    <tr>\n",
              "      <th>long</th>\n",
              "      <td>-0.017980</td>\n",
              "      <td>0.035599</td>\n",
              "      <td>-5.572279e-02</td>\n",
              "      <td>-0.132009</td>\n",
              "      <td>0.239472</td>\n",
              "      <td>0.017480</td>\n",
              "      <td>0.133627</td>\n",
              "      <td>-0.078239</td>\n",
              "      <td>0.357043</td>\n",
              "      <td>-2.580047e-01</td>\n",
              "      <td>2.105441e-01</td>\n",
              "      <td>-0.619055</td>\n",
              "      <td>-0.070867</td>\n",
              "      <td>0.035144</td>\n",
              "      <td>1.501490</td>\n",
              "      <td>-0.447376</td>\n",
              "      <td>-0.154039</td>\n",
              "    </tr>\n",
              "    <tr>\n",
              "      <th>sqft_living15</th>\n",
              "      <td>0.015082</td>\n",
              "      <td>0.086847</td>\n",
              "      <td>-9.679430e-01</td>\n",
              "      <td>0.164274</td>\n",
              "      <td>0.294212</td>\n",
              "      <td>0.051600</td>\n",
              "      <td>-0.307824</td>\n",
              "      <td>0.055467</td>\n",
              "      <td>-0.922139</td>\n",
              "      <td>-6.534119e-01</td>\n",
              "      <td>5.583938e-03</td>\n",
              "      <td>0.045231</td>\n",
              "      <td>0.094531</td>\n",
              "      <td>-0.055838</td>\n",
              "      <td>-0.447376</td>\n",
              "      <td>2.953130</td>\n",
              "      <td>-0.123651</td>\n",
              "    </tr>\n",
              "    <tr>\n",
              "      <th>sqft_lot15</th>\n",
              "      <td>0.086147</td>\n",
              "      <td>0.071861</td>\n",
              "      <td>-1.864084e-01</td>\n",
              "      <td>-1.459343</td>\n",
              "      <td>0.071066</td>\n",
              "      <td>-0.018259</td>\n",
              "      <td>-0.008805</td>\n",
              "      <td>-0.026750</td>\n",
              "      <td>0.072651</td>\n",
              "      <td>-8.355828e-03</td>\n",
              "      <td>2.949668e-02</td>\n",
              "      <td>-0.031344</td>\n",
              "      <td>-0.021888</td>\n",
              "      <td>0.033785</td>\n",
              "      <td>-0.154039</td>\n",
              "      <td>-0.123651</td>\n",
              "      <td>2.135524</td>\n",
              "    </tr>\n",
              "  </tbody>\n",
              "</table>\n",
              "</div>"
            ],
            "text/plain": [
              "               bedrooms  bathrooms  ...  sqft_living15  sqft_lot15\n",
              "bedrooms       1.648202  -0.463185  ...       0.015082    0.086147\n",
              "bathrooms     -0.463185   3.349742  ...       0.086847    0.071861\n",
              "sqft_living   -0.187973  -5.067275  ...      -0.965288   -0.188006\n",
              "sqft_lot       0.049487  -0.024062  ...       0.164274   -1.459343\n",
              "floors         0.057925  -0.670781  ...       0.294212    0.071066\n",
              "waterfront     0.062148   0.009193  ...       0.051600   -0.018259\n",
              "view           0.120891  -0.038108  ...      -0.307824   -0.008805\n",
              "condition     -0.058540  -0.141075  ...       0.055467   -0.026750\n",
              "grade          0.303033  -0.270100  ...      -0.922139    0.072651\n",
              "sqft_above    -0.702025   3.297442  ...      -0.655806   -0.006915\n",
              "sqft_basement -0.389886   1.364349  ...       0.004304    0.030267\n",
              "yr_built       0.122118  -0.942238  ...       0.045231   -0.031344\n",
              "yr_renovated   0.043678  -0.260709  ...       0.094531   -0.021888\n",
              "lat            0.065639  -0.033209  ...      -0.055838    0.033785\n",
              "long          -0.017980   0.035599  ...      -0.447376   -0.154039\n",
              "sqft_living15  0.015082   0.086847  ...       2.953130   -0.123651\n",
              "sqft_lot15     0.086147   0.071861  ...      -0.123651    2.135524\n",
              "\n",
              "[17 rows x 17 columns]"
            ]
          },
          "metadata": {},
          "execution_count": 122
        }
      ]
    },
    {
      "cell_type": "markdown",
      "metadata": {
        "id": "yS7J4g5ai286"
      },
      "source": [
        "The VIF(varience Inflation factor) score for each variable is found alongside the downwards sloping diagonal.Most of the VIF score is below 3.5 which shows that there is moderate multicollinearity between the independent variables "
      ]
    },
    {
      "cell_type": "code",
      "metadata": {
        "colab": {
          "base_uri": "https://localhost:8080/"
        },
        "id": "ans77uJNkz9U",
        "outputId": "b9ade86e-121b-4796-f8a6-92bcf9c428a0"
      },
      "source": [
        "#split the dataset test and train \n",
        "from sklearn.model_selection import train_test_split\n",
        "X_train, X_test,y_train,y_test = train_test_split(X,Y, test_size = 0.3, random_state = 2)\n",
        "\n",
        "#Import Linear Regresion\n",
        "from sklearn.linear_model import LinearRegression\n",
        "l_reg = LinearRegression()\n",
        "\n",
        "#fit the model to train and test \n",
        "l_reg.fit(X_train,y_train)\n"
      ],
      "execution_count": 123,
      "outputs": [
        {
          "output_type": "execute_result",
          "data": {
            "text/plain": [
              "LinearRegression()"
            ]
          },
          "metadata": {},
          "execution_count": 123
        }
      ]
    },
    {
      "cell_type": "code",
      "metadata": {
        "colab": {
          "base_uri": "https://localhost:8080/",
          "height": 583
        },
        "id": "C3LHwcHDnSnH",
        "outputId": "9a289587-0ed7-4b25-c5bf-01f85b280535"
      },
      "source": [
        "# To see coefficients our regression model has chosen, execute the following\n",
        "# \n",
        "coeff_df = pd.DataFrame(l_reg.coef_, X.columns, columns=['Coefficient'])\n",
        "coeff_df"
      ],
      "execution_count": 124,
      "outputs": [
        {
          "output_type": "execute_result",
          "data": {
            "text/html": [
              "<div>\n",
              "<style scoped>\n",
              "    .dataframe tbody tr th:only-of-type {\n",
              "        vertical-align: middle;\n",
              "    }\n",
              "\n",
              "    .dataframe tbody tr th {\n",
              "        vertical-align: top;\n",
              "    }\n",
              "\n",
              "    .dataframe thead th {\n",
              "        text-align: right;\n",
              "    }\n",
              "</style>\n",
              "<table border=\"1\" class=\"dataframe\">\n",
              "  <thead>\n",
              "    <tr style=\"text-align: right;\">\n",
              "      <th></th>\n",
              "      <th>Coefficient</th>\n",
              "    </tr>\n",
              "  </thead>\n",
              "  <tbody>\n",
              "    <tr>\n",
              "      <th>bedrooms</th>\n",
              "      <td>-32364.475260</td>\n",
              "    </tr>\n",
              "    <tr>\n",
              "      <th>bathrooms</th>\n",
              "      <td>41809.714369</td>\n",
              "    </tr>\n",
              "    <tr>\n",
              "      <th>sqft_living</th>\n",
              "      <td>107.789650</td>\n",
              "    </tr>\n",
              "    <tr>\n",
              "      <th>sqft_lot</th>\n",
              "      <td>0.106017</td>\n",
              "    </tr>\n",
              "    <tr>\n",
              "      <th>floors</th>\n",
              "      <td>4601.592674</td>\n",
              "    </tr>\n",
              "    <tr>\n",
              "      <th>waterfront</th>\n",
              "      <td>522219.778183</td>\n",
              "    </tr>\n",
              "    <tr>\n",
              "      <th>view</th>\n",
              "      <td>50062.154435</td>\n",
              "    </tr>\n",
              "    <tr>\n",
              "      <th>condition</th>\n",
              "      <td>33305.712242</td>\n",
              "    </tr>\n",
              "    <tr>\n",
              "      <th>grade</th>\n",
              "      <td>97271.581235</td>\n",
              "    </tr>\n",
              "    <tr>\n",
              "      <th>sqft_above</th>\n",
              "      <td>66.946077</td>\n",
              "    </tr>\n",
              "    <tr>\n",
              "      <th>sqft_basement</th>\n",
              "      <td>40.843573</td>\n",
              "    </tr>\n",
              "    <tr>\n",
              "      <th>yr_built</th>\n",
              "      <td>-2421.970592</td>\n",
              "    </tr>\n",
              "    <tr>\n",
              "      <th>yr_renovated</th>\n",
              "      <td>24.291930</td>\n",
              "    </tr>\n",
              "    <tr>\n",
              "      <th>lat</th>\n",
              "      <td>570255.686751</td>\n",
              "    </tr>\n",
              "    <tr>\n",
              "      <th>long</th>\n",
              "      <td>-111273.796578</td>\n",
              "    </tr>\n",
              "    <tr>\n",
              "      <th>sqft_living15</th>\n",
              "      <td>29.011903</td>\n",
              "    </tr>\n",
              "    <tr>\n",
              "      <th>sqft_lot15</th>\n",
              "      <td>-0.374648</td>\n",
              "    </tr>\n",
              "  </tbody>\n",
              "</table>\n",
              "</div>"
            ],
            "text/plain": [
              "                 Coefficient\n",
              "bedrooms       -32364.475260\n",
              "bathrooms       41809.714369\n",
              "sqft_living       107.789650\n",
              "sqft_lot            0.106017\n",
              "floors           4601.592674\n",
              "waterfront     522219.778183\n",
              "view            50062.154435\n",
              "condition       33305.712242\n",
              "grade           97271.581235\n",
              "sqft_above         66.946077\n",
              "sqft_basement      40.843573\n",
              "yr_built        -2421.970592\n",
              "yr_renovated       24.291930\n",
              "lat            570255.686751\n",
              "long          -111273.796578\n",
              "sqft_living15      29.011903\n",
              "sqft_lot15         -0.374648"
            ]
          },
          "metadata": {},
          "execution_count": 124
        }
      ]
    },
    {
      "cell_type": "markdown",
      "metadata": {
        "id": "EMvskxTsn4pN"
      },
      "source": [
        "Some observation but not limited to ;\n",
        "\n",
        "1.  Holding all other features fixed, one unit increase in bathroom there is an increase of 41809.\n",
        "2.  Holding all other features fixed, one unit increase in sqft_lot15 there is a decrease of 0.3.\n",
        "3.  Holding all other feeatures fixed, one unit increase in lat there is increase of 570255.\n",
        "4. Holding all other features fixed,one unit increase of grade there is an increase of 97271.\n",
        "\n",
        "\n"
      ]
    },
    {
      "cell_type": "code",
      "metadata": {
        "id": "O2FRaLkmlloi",
        "colab": {
          "base_uri": "https://localhost:8080/"
        },
        "outputId": "054d27a6-adbe-4d58-fbbb-190c087af88b"
      },
      "source": [
        "#Making prediction using our model\n",
        "y_pred = l_reg.predict(X_test)\n",
        "\n",
        "#Evaluation metrics of our model \n",
        "from sklearn import metrics\n",
        "from sklearn.metrics import r2_score\n",
        "\n",
        "print('Mean Absolute Error (MAE):', metrics.mean_absolute_error(y_test, y_pred))\n",
        "print('Root Mean Squared Error:', np.sqrt(metrics.mean_squared_error(y_test, y_pred)))\n",
        "print(\"R_2 score :\",r2_score(y_test, y_pred))"
      ],
      "execution_count": 125,
      "outputs": [
        {
          "output_type": "stream",
          "name": "stdout",
          "text": [
            "Mean Absolute Error (MAE): 126019.25567793478\n",
            "Root Mean Squared Error: 203612.2919482339\n",
            "R_2 score : 0.7027500035931395\n"
          ]
        }
      ]
    },
    {
      "cell_type": "markdown",
      "metadata": {
        "id": "Jq9e-l5irNJg"
      },
      "source": [
        "from the model evaluate metrics we have a MAE score of 126019 and R_2 score of 70% this shows that the model can interprate 68% of the dependent variablity."
      ]
    },
    {
      "cell_type": "code",
      "metadata": {
        "id": "kOx3nhHOqCNq",
        "colab": {
          "base_uri": "https://localhost:8080/"
        },
        "outputId": "cfa7c984-5b1d-4ca8-9bca-1723855c1666"
      },
      "source": [
        "#Residual plots and heteroskedasticity\n",
        "residual = np.subtract(y_pred,y_test)\n",
        "#Residual mean\n",
        "r_mean = np.mean(residual)\n",
        "r_mean"
      ],
      "execution_count": 126,
      "outputs": [
        {
          "output_type": "execute_result",
          "data": {
            "text/plain": [
              "4138.799574552382"
            ]
          },
          "metadata": {},
          "execution_count": 126
        }
      ]
    },
    {
      "cell_type": "code",
      "metadata": {
        "colab": {
          "base_uri": "https://localhost:8080/",
          "height": 290
        },
        "id": "dpY1O9QAAUF3",
        "outputId": "31f5377d-b6bb-46e9-f8bc-69f7e922108d"
      },
      "source": [
        "#plotting Residual plot \n",
        "import matplotlib.pyplot as plt\n",
        "\n",
        "plt.scatter(y_pred, residual, color='black')\n",
        "plt.ylabel('residual')\n",
        "plt.xlabel('values')\n",
        "plt.axhline(y= residual.mean(), color='red', linewidth=1)\n",
        "plt.show()"
      ],
      "execution_count": 127,
      "outputs": [
        {
          "output_type": "display_data",
          "data": {
            "image/png": "[encoded data removed]",
            "text/plain": [
              "<Figure size 432x288 with 1 Axes>"
            ]
          },
          "metadata": {
            "needs_background": "light"
          }
        }
      ]
    },
    {
      "cell_type": "markdown",
      "metadata": {
        "id": "_r_0JK5XEyqw"
      },
      "source": [
        "There is a random pattern in the residual plot and the residual mean start from zero"
      ]
    },
    {
      "cell_type": "code",
      "metadata": {
        "colab": {
          "base_uri": "https://localhost:8080/"
        },
        "id": "7moFet3PBF2H",
        "outputId": "53c87232-532d-4a71-f744-605005709453"
      },
      "source": [
        "#heteroskedasticity test using bartlett's test\n",
        "import scipy as sp\n",
        "\n",
        "test_result, p_value = sp.stats.bartlett(y_pred, residual)\n",
        "\n",
        "\n",
        "degree_of_freedom = len(y_pred)-1\n",
        "probability = 1 - p_value\n",
        "\n",
        "critical_value = sp.stats.chi2.ppf(probability, degree_of_freedom)\n",
        "print(p_value)\n",
        "\n",
        "if (test_result > critical_value):\n",
        "  print('the variances are unequal, and the model should be reassessed')\n",
        "else:\n",
        "  print('the variances are homogeneous!')"
      ],
      "execution_count": 128,
      "outputs": [
        {
          "output_type": "stream",
          "name": "stdout",
          "text": [
            "2.725191733599012e-237\n",
            "the variances are homogeneous!\n"
          ]
        }
      ]
    },
    {
      "cell_type": "markdown",
      "metadata": {
        "id": "YYnjDmztD7G2"
      },
      "source": [
        "#### Quantile Regression "
      ]
    },
    {
      "cell_type": "code",
      "metadata": {
        "id": "UKcXqFQ6AoNo"
      },
      "source": [
        "#Prepare the Data and split to target and feature set \n",
        "X = df.drop(['price','sqft_living'],axis=1)\n",
        "Y = df['price']"
      ],
      "execution_count": 129,
      "outputs": []
    },
    {
      "cell_type": "code",
      "metadata": {
        "id": "QBJuRI8OD-wA",
        "colab": {
          "base_uri": "https://localhost:8080/"
        },
        "outputId": "979d41dd-8988-4f67-c766-630e878bea2d"
      },
      "source": [
        "## We will use the python package statsmodels for Quantile Regression\n",
        "import statsmodels.formula.api as smf\n",
        "import warnings\n",
        "warnings.filterwarnings(\"ignore\")\n",
        "#\n",
        "qt = [0.25, 0.5, 0.75]\n",
        "model = smf.quantreg('Y ~ X', data= df)\n",
        "mod = model.fit(quantiles= qt)\n",
        "\n",
        "#model summary \n",
        "print(mod.summary())"
      ],
      "execution_count": 130,
      "outputs": [
        {
          "output_type": "stream",
          "name": "stdout",
          "text": [
            "                         QuantReg Regression Results                          \n",
            "==============================================================================\n",
            "Dep. Variable:                      Y   Pseudo R-squared:               0.4612\n",
            "Model:                       QuantReg   Bandwidth:                   1.963e+04\n",
            "Method:                 Least Squares   Sparsity:                    2.662e+05\n",
            "Date:                Sat, 27 Nov 2021   No. Observations:                21613\n",
            "Time:                        11:32:22   Df Residuals:                    21596\n",
            "                                        Df Model:                           16\n",
            "==============================================================================\n",
            "                 coef    std err          t      P>|t|      [0.025      0.975]\n",
            "------------------------------------------------------------------------------\n",
            "Intercept     37.7061      6.845      5.509      0.000      24.289      51.123\n",
            "X[0]       -2.179e+04   1249.201    -17.441      0.000   -2.42e+04   -1.93e+04\n",
            "X[1]        3.454e+04   2149.194     16.069      0.000    3.03e+04    3.87e+04\n",
            "X[2]           0.1612      0.032      5.102      0.000       0.099       0.223\n",
            "X[3]        4.071e+04   2330.602     17.466      0.000    3.61e+04    4.53e+04\n",
            "X[4]        1442.8521   1.15e+04      0.126      0.900   -2.11e+04    2.39e+04\n",
            "X[5]         5.77e+04   1407.654     40.993      0.000    5.49e+04    6.05e+04\n",
            "X[6]        2.187e+04   1536.182     14.234      0.000    1.89e+04    2.49e+04\n",
            "X[7]        8.679e+04   1391.713     62.365      0.000    8.41e+04    8.95e+04\n",
            "X[8]          92.1849      2.403     38.364      0.000      87.475      96.895\n",
            "X[9]         105.0542      2.881     36.470      0.000      99.408     110.700\n",
            "X[10]      -2504.5210     42.404    -59.064      0.000   -2587.635   -2421.407\n",
            "X[11]         13.7162      2.407      5.699      0.000       8.999      18.434\n",
            "X[12]       4.758e+05   6590.559     72.195      0.000    4.63e+05    4.89e+05\n",
            "X[13]       1.494e+05   2703.342     55.247      0.000    1.44e+05    1.55e+05\n",
            "X[14]         29.6401      2.230     13.290      0.000      25.269      34.011\n",
            "X[15]         -0.3097      0.048     -6.414      0.000      -0.404      -0.215\n",
            "==============================================================================\n",
            "\n",
            "The condition number is large, 5.85e+07. This might indicate that there are\n",
            "strong multicollinearity or other numerical problems.\n"
          ]
        }
      ]
    },
    {
      "cell_type": "markdown",
      "metadata": {
        "id": "CZ-2lwHOU3F5"
      },
      "source": [
        "#### Lasso Regression "
      ]
    },
    {
      "cell_type": "code",
      "metadata": {
        "id": "2Hc8g5c0VAmG"
      },
      "source": [
        "#Prepare the Data and split to target and feature set \n",
        "X = df.drop('price',axis=1)\n",
        "Y = df['price']\n",
        "\n",
        "#standardize the independent variables \n",
        "from sklearn.preprocessing import StandardScaler\n",
        "scaler = StandardScaler()\n",
        "scaler.fit(X)\n",
        "x = scaler.transform(X)"
      ],
      "execution_count": 131,
      "outputs": []
    },
    {
      "cell_type": "code",
      "metadata": {
        "colab": {
          "base_uri": "https://localhost:8080/"
        },
        "id": "BsIRZYmVXncz",
        "outputId": "ab276e5a-6a43-40b4-b0a0-0b1ce96b92e7"
      },
      "source": [
        "#Split to test and train\n",
        "from sklearn.model_selection import train_test_split\n",
        "X_train, X_test ,Y_train,Y_test = train_test_split(x,Y, test_size=0.3,random_state=2)\n",
        "\n",
        "#Lasso Regression and set paramenter \n",
        "from sklearn.linear_model import Lasso\n",
        "from sklearn.model_selection import GridSearchCV\n",
        "from sklearn import metrics\n",
        "import warnings\n",
        "warnings.filterwarnings(\"ignore\")\n",
        "#\n",
        "lasso = Lasso()\n",
        "#Parameters\n",
        "parameter = {'alpha': np.concatenate((np.arange(0.1,2,0.1), np.arange(2, 5, 0.5), np.arange(5, 25, 1)))}\n",
        "#Gridsearch\n",
        "cv_lasso = GridSearchCV(lasso, parameter, scoring ='r2') \n",
        "#Fit model and get best alpha value \n",
        "cv_lasso.fit(X_train,y_train)\n",
        "#best parameter \n",
        "print(\"lasso best parameters:\", cv_lasso.best_params_) \n",
        "print(\"lasso score:\", cv_lasso.score(X_test, Y_test))\n",
        "\n",
        "print(\"lasso MSE:\", metrics.mean_squared_error(Y_test, cv_lasso.predict(X_test)))"
      ],
      "execution_count": 132,
      "outputs": [
        {
          "output_type": "stream",
          "name": "stdout",
          "text": [
            "lasso best parameters: {'alpha': 24.0}\n",
            "lasso score: 0.7027488262536394\n",
            "lasso MSE: 41458129637.966705\n"
          ]
        }
      ]
    },
    {
      "cell_type": "code",
      "metadata": {
        "colab": {
          "base_uri": "https://localhost:8080/",
          "height": 635
        },
        "id": "0LAH293nd98J",
        "outputId": "dcee3bdf-7cee-4d13-deae-c7f503dde1f2"
      },
      "source": [
        "#fit alpha value and fit model \n",
        "lasso = Lasso(alpha=24)\n",
        "lasso.fit(X_train,Y_train)\n",
        "#prediction\n",
        "y_pred = lasso.predict(X_test)\n",
        "#Model evaluation \n",
        "print(\"Mean Squared Error :\", metrics.mean_squared_error(Y_test,y_pred))\n",
        "print(\"Mean Absolute Error (MAE):\",metrics.median_absolute_error(Y_test,y_pred))\n",
        "print(\"R_2 score :\",r2_score(Y_test, y_pred))\n",
        "coeff_lasso = pd.DataFrame(lasso.coef_, X.columns, columns=['Coefficient'])\n",
        "coeff_lasso"
      ],
      "execution_count": 133,
      "outputs": [
        {
          "output_type": "stream",
          "name": "stdout",
          "text": [
            "Mean Squared Error : 41458129637.966705\n",
            "Mean Absolute Error (MAE): 89820.77521447212\n",
            "R_2 score : 0.7027488262536394\n"
          ]
        },
        {
          "output_type": "execute_result",
          "data": {
            "text/html": [
              "<div>\n",
              "<style scoped>\n",
              "    .dataframe tbody tr th:only-of-type {\n",
              "        vertical-align: middle;\n",
              "    }\n",
              "\n",
              "    .dataframe tbody tr th {\n",
              "        vertical-align: top;\n",
              "    }\n",
              "\n",
              "    .dataframe thead th {\n",
              "        text-align: right;\n",
              "    }\n",
              "</style>\n",
              "<table border=\"1\" class=\"dataframe\">\n",
              "  <thead>\n",
              "    <tr style=\"text-align: right;\">\n",
              "      <th></th>\n",
              "      <th>Coefficient</th>\n",
              "    </tr>\n",
              "  </thead>\n",
              "  <tbody>\n",
              "    <tr>\n",
              "      <th>bedrooms</th>\n",
              "      <td>-30076.533726</td>\n",
              "    </tr>\n",
              "    <tr>\n",
              "      <th>bathrooms</th>\n",
              "      <td>32040.411947</td>\n",
              "    </tr>\n",
              "    <tr>\n",
              "      <th>sqft_living</th>\n",
              "      <td>200094.726849</td>\n",
              "    </tr>\n",
              "    <tr>\n",
              "      <th>sqft_lot</th>\n",
              "      <td>4310.198138</td>\n",
              "    </tr>\n",
              "    <tr>\n",
              "      <th>floors</th>\n",
              "      <td>2484.053879</td>\n",
              "    </tr>\n",
              "    <tr>\n",
              "      <th>waterfront</th>\n",
              "      <td>45160.745772</td>\n",
              "    </tr>\n",
              "    <tr>\n",
              "      <th>view</th>\n",
              "      <td>38369.188386</td>\n",
              "    </tr>\n",
              "    <tr>\n",
              "      <th>condition</th>\n",
              "      <td>21641.266495</td>\n",
              "    </tr>\n",
              "    <tr>\n",
              "      <th>grade</th>\n",
              "      <td>114394.716677</td>\n",
              "    </tr>\n",
              "    <tr>\n",
              "      <th>sqft_above</th>\n",
              "      <td>-35552.216245</td>\n",
              "    </tr>\n",
              "    <tr>\n",
              "      <th>sqft_basement</th>\n",
              "      <td>-30529.288633</td>\n",
              "    </tr>\n",
              "    <tr>\n",
              "      <th>yr_built</th>\n",
              "      <td>-71103.865910</td>\n",
              "    </tr>\n",
              "    <tr>\n",
              "      <th>yr_renovated</th>\n",
              "      <td>9738.221608</td>\n",
              "    </tr>\n",
              "    <tr>\n",
              "      <th>lat</th>\n",
              "      <td>78993.218463</td>\n",
              "    </tr>\n",
              "    <tr>\n",
              "      <th>long</th>\n",
              "      <td>-15633.868255</td>\n",
              "    </tr>\n",
              "    <tr>\n",
              "      <th>sqft_living15</th>\n",
              "      <td>19729.826023</td>\n",
              "    </tr>\n",
              "    <tr>\n",
              "      <th>sqft_lot15</th>\n",
              "      <td>-10162.293306</td>\n",
              "    </tr>\n",
              "  </tbody>\n",
              "</table>\n",
              "</div>"
            ],
            "text/plain": [
              "                 Coefficient\n",
              "bedrooms       -30076.533726\n",
              "bathrooms       32040.411947\n",
              "sqft_living    200094.726849\n",
              "sqft_lot         4310.198138\n",
              "floors           2484.053879\n",
              "waterfront      45160.745772\n",
              "view            38369.188386\n",
              "condition       21641.266495\n",
              "grade          114394.716677\n",
              "sqft_above     -35552.216245\n",
              "sqft_basement  -30529.288633\n",
              "yr_built       -71103.865910\n",
              "yr_renovated     9738.221608\n",
              "lat             78993.218463\n",
              "long           -15633.868255\n",
              "sqft_living15   19729.826023\n",
              "sqft_lot15     -10162.293306"
            ]
          },
          "metadata": {},
          "execution_count": 133
        }
      ]
    },
    {
      "cell_type": "markdown",
      "metadata": {
        "id": "Wo_h7HIajpCO"
      },
      "source": [
        "Lasso Regression has a mean absolute error of 89856 that is lower than the linear regression Model of 126019. Lasso and Linear have same R2 score. \n",
        "Variables in lasso regression hace low coeffience compaired to linear regression model"
      ]
    },
    {
      "cell_type": "markdown",
      "metadata": {
        "id": "K_hx5R_Jkwub"
      },
      "source": [
        "#### Ridge Regression"
      ]
    },
    {
      "cell_type": "code",
      "metadata": {
        "id": "EBscFDLmeHt8"
      },
      "source": [
        "#Prepare the Data and split to target and feature set \n",
        "X = df.drop('price',axis=1)\n",
        "Y = df['price']\n",
        "#split test and train \n",
        "X_train, X_test, y_train, y_test = train_test_split(X,Y,test_size= 0.3,random_state=2)"
      ],
      "execution_count": 134,
      "outputs": []
    },
    {
      "cell_type": "code",
      "metadata": {
        "id": "BI-tAN08lulv"
      },
      "source": [
        "#Ridge regression and normalize in order get good estimates\n",
        "from sklearn.linear_model import Ridge\n",
        "ridge = Ridge(normalize=True)\n",
        "\n",
        "#Grid search using 5 folds\n",
        "from sklearn.model_selection import GridSearchCV\n",
        "param = GridSearchCV(estimator=ridge,param_grid={'alpha':np.logspace(-5,2,8)},scoring='neg_mean_squared_error',n_jobs=1,refit=True,cv=5)"
      ],
      "execution_count": 135,
      "outputs": []
    },
    {
      "cell_type": "code",
      "metadata": {
        "colab": {
          "base_uri": "https://localhost:8080/"
        },
        "id": "IK2QkfTeqdeo",
        "outputId": "0fda8692-75b8-4792-b394-513a2d7d9e88"
      },
      "source": [
        "#fit to model\n",
        "param.fit(X_train,y_train)\n",
        "#get best alpha and model score \n",
        "print(\"Best parameter :\",param.best_params_)\n",
        "print(\"Model score :\",param.best_score_)"
      ],
      "execution_count": 136,
      "outputs": [
        {
          "output_type": "stream",
          "name": "stdout",
          "text": [
            "Best parameter : {'alpha': 0.01}\n",
            "Model score : -41334209151.60602\n"
          ]
        }
      ]
    },
    {
      "cell_type": "code",
      "metadata": {
        "colab": {
          "base_uri": "https://localhost:8080/",
          "height": 635
        },
        "id": "mnAswdp7roC9",
        "outputId": "c22235e6-b636-4a81-ca58-8a3c907e81f3"
      },
      "source": [
        "#fit model with best alpha value to ridge \n",
        "r = Ridge(alpha= 0.01,normalize=True)\n",
        "#fit train variables \n",
        "r.fit(X_train,y_train)\n",
        "#predict \n",
        "y_pred = r.predict(X_test)\n",
        "#Evaluate model get MAE and R2 score and Coeffience \n",
        "from sklearn.metrics import mean_squared_error\n",
        "from sklearn.metrics import mean_absolute_error\n",
        "from sklearn.metrics import r2_score\n",
        "print(\"mean Squared Error (MSE):)\", mean_squared_error(y_test, y_pred))\n",
        "print(\"Mean absolute error (MAE) :\",mean_absolute_error(y_test,y_pred))\n",
        "print(\"R2 score :\",r2_score(y_test,y_pred))\n",
        "coeff_ridge = pd.DataFrame(r.coef_, X.columns, columns=['Coefficient'])\n",
        "coeff_ridge"
      ],
      "execution_count": 137,
      "outputs": [
        {
          "output_type": "stream",
          "name": "stdout",
          "text": [
            "mean Squared Error (MSE):) 41496595402.14847\n",
            "Mean absolute error (MAE) : 125734.00082500427\n",
            "R2 score : 0.7024730300792358\n"
          ]
        },
        {
          "output_type": "execute_result",
          "data": {
            "text/html": [
              "<div>\n",
              "<style scoped>\n",
              "    .dataframe tbody tr th:only-of-type {\n",
              "        vertical-align: middle;\n",
              "    }\n",
              "\n",
              "    .dataframe tbody tr th {\n",
              "        vertical-align: top;\n",
              "    }\n",
              "\n",
              "    .dataframe thead th {\n",
              "        text-align: right;\n",
              "    }\n",
              "</style>\n",
              "<table border=\"1\" class=\"dataframe\">\n",
              "  <thead>\n",
              "    <tr style=\"text-align: right;\">\n",
              "      <th></th>\n",
              "      <th>Coefficient</th>\n",
              "    </tr>\n",
              "  </thead>\n",
              "  <tbody>\n",
              "    <tr>\n",
              "      <th>bedrooms</th>\n",
              "      <td>-31298.832174</td>\n",
              "    </tr>\n",
              "    <tr>\n",
              "      <th>bathrooms</th>\n",
              "      <td>41517.669266</td>\n",
              "    </tr>\n",
              "    <tr>\n",
              "      <th>sqft_living</th>\n",
              "      <td>85.763301</td>\n",
              "    </tr>\n",
              "    <tr>\n",
              "      <th>sqft_lot</th>\n",
              "      <td>0.105980</td>\n",
              "    </tr>\n",
              "    <tr>\n",
              "      <th>floors</th>\n",
              "      <td>5366.663516</td>\n",
              "    </tr>\n",
              "    <tr>\n",
              "      <th>waterfront</th>\n",
              "      <td>518121.063948</td>\n",
              "    </tr>\n",
              "    <tr>\n",
              "      <th>view</th>\n",
              "      <td>50210.006973</td>\n",
              "    </tr>\n",
              "    <tr>\n",
              "      <th>condition</th>\n",
              "      <td>33395.306822</td>\n",
              "    </tr>\n",
              "    <tr>\n",
              "      <th>grade</th>\n",
              "      <td>95370.380656</td>\n",
              "    </tr>\n",
              "    <tr>\n",
              "      <th>sqft_above</th>\n",
              "      <td>87.258821</td>\n",
              "    </tr>\n",
              "    <tr>\n",
              "      <th>sqft_basement</th>\n",
              "      <td>62.264295</td>\n",
              "    </tr>\n",
              "    <tr>\n",
              "      <th>yr_built</th>\n",
              "      <td>-2364.382603</td>\n",
              "    </tr>\n",
              "    <tr>\n",
              "      <th>yr_renovated</th>\n",
              "      <td>25.198101</td>\n",
              "    </tr>\n",
              "    <tr>\n",
              "      <th>lat</th>\n",
              "      <td>567429.580485</td>\n",
              "    </tr>\n",
              "    <tr>\n",
              "      <th>long</th>\n",
              "      <td>-114430.180774</td>\n",
              "    </tr>\n",
              "    <tr>\n",
              "      <th>sqft_living15</th>\n",
              "      <td>31.434191</td>\n",
              "    </tr>\n",
              "    <tr>\n",
              "      <th>sqft_lot15</th>\n",
              "      <td>-0.363827</td>\n",
              "    </tr>\n",
              "  </tbody>\n",
              "</table>\n",
              "</div>"
            ],
            "text/plain": [
              "                 Coefficient\n",
              "bedrooms       -31298.832174\n",
              "bathrooms       41517.669266\n",
              "sqft_living        85.763301\n",
              "sqft_lot            0.105980\n",
              "floors           5366.663516\n",
              "waterfront     518121.063948\n",
              "view            50210.006973\n",
              "condition       33395.306822\n",
              "grade           95370.380656\n",
              "sqft_above         87.258821\n",
              "sqft_basement      62.264295\n",
              "yr_built        -2364.382603\n",
              "yr_renovated       25.198101\n",
              "lat            567429.580485\n",
              "long          -114430.180774\n",
              "sqft_living15      31.434191\n",
              "sqft_lot15         -0.363827"
            ]
          },
          "metadata": {},
          "execution_count": 137
        }
      ]
    },
    {
      "cell_type": "markdown",
      "metadata": {
        "id": "VsHFZJ8XtgBZ"
      },
      "source": [
        "Ridge regression MAE is 125734 about the same with the baaseline model which has an MAE of 126019.\n",
        "It has and R2 score of 70%\n"
      ]
    },
    {
      "cell_type": "markdown",
      "metadata": {
        "id": "P0fGjIQPt2Ay"
      },
      "source": [
        "#### Elastic Net Regression "
      ]
    },
    {
      "cell_type": "code",
      "metadata": {
        "id": "FqhhoyG_t7mo"
      },
      "source": [
        "#Prepare the Data and split to target and feature set \n",
        "X = df.drop('price',axis=1)\n",
        "Y = df['price']\n",
        "#split test and train \n",
        "X_train, X_test, y_train, y_test = train_test_split(X,Y,test_size= 0.3,random_state=2)"
      ],
      "execution_count": 138,
      "outputs": []
    },
    {
      "cell_type": "code",
      "metadata": {
        "id": "dDqYO0F_vIqO"
      },
      "source": [
        "#elastic Net regression and Normalize \n",
        "from sklearn.linear_model import ElasticNet\n",
        "elastic = ElasticNet(normalize = True)\n",
        "#Create our Grid \n",
        "from sklearn.model_selection import GridSearchCV\n",
        "#create grid parameters\n",
        "result = GridSearchCV(estimator=elastic,param_grid={'alpha':np.logspace(-5,2,8),'l1_ratio':[.2,.4,.6,.8]},scoring='neg_mean_squared_error',n_jobs=1,refit=True,cv=5)"
      ],
      "execution_count": 139,
      "outputs": []
    },
    {
      "cell_type": "code",
      "metadata": {
        "colab": {
          "base_uri": "https://localhost:8080/"
        },
        "id": "HVFQyJSbwcE3",
        "outputId": "ab73be9f-ac03-4324-d700-f38f3d7493e9"
      },
      "source": [
        "#fit train to parameters\n",
        "result.fit(X_train,y_train)\n",
        "#evaluate and get best alpha value and l1 ratio\n",
        "print('Parameters:',result.best_params_)\n",
        "print(\"Best score :\",result.best_score_)"
      ],
      "execution_count": 140,
      "outputs": [
        {
          "output_type": "stream",
          "name": "stdout",
          "text": [
            "Parameters: {'alpha': 1e-05, 'l1_ratio': 0.8}\n",
            "Best score : -41347015720.9153\n"
          ]
        }
      ]
    },
    {
      "cell_type": "code",
      "metadata": {
        "colab": {
          "base_uri": "https://localhost:8080/",
          "height": 635
        },
        "id": "whCtOD8oxWeA",
        "outputId": "2dd10096-e3eb-465f-dccf-f824b4117e61"
      },
      "source": [
        "#fit alpha and l1 ratio \n",
        "elestic = ElasticNet(normalize=True,alpha=1e-05,l1_ratio=0.8)\n",
        "#fit train values \n",
        "elestic.fit(X_train,y_train)\n",
        "#predict \n",
        "y_pred = elestic.predict(X_test)\n",
        "#Evaluate model performance get MAE ,R2 score and coeffience\n",
        "from sklearn.metrics import mean_squared_error\n",
        "from sklearn.metrics import mean_absolute_error\n",
        "from sklearn.metrics import r2_score\n",
        "\n",
        "print(\"MSE :\", mean_squared_error(y_test,y_pred))\n",
        "print(\"MAE :\",mean_absolute_error(y_test,y_pred))\n",
        "print(\"R2 Score :\",r2_score(y_test,y_pred))\n",
        "coeff_elastic = pd.DataFrame(elestic.coef_, X.columns, columns=['Coefficient'])\n",
        "coeff_elastic"
      ],
      "execution_count": 142,
      "outputs": [
        {
          "output_type": "stream",
          "name": "stdout",
          "text": [
            "MSE : 41597752922.19358\n",
            "MAE : 125238.45350396277\n",
            "R2 Score : 0.7017477394829339\n"
          ]
        },
        {
          "output_type": "execute_result",
          "data": {
            "text/html": [
              "<div>\n",
              "<style scoped>\n",
              "    .dataframe tbody tr th:only-of-type {\n",
              "        vertical-align: middle;\n",
              "    }\n",
              "\n",
              "    .dataframe tbody tr th {\n",
              "        vertical-align: top;\n",
              "    }\n",
              "\n",
              "    .dataframe thead th {\n",
              "        text-align: right;\n",
              "    }\n",
              "</style>\n",
              "<table border=\"1\" class=\"dataframe\">\n",
              "  <thead>\n",
              "    <tr style=\"text-align: right;\">\n",
              "      <th></th>\n",
              "      <th>Coefficient</th>\n",
              "    </tr>\n",
              "  </thead>\n",
              "  <tbody>\n",
              "    <tr>\n",
              "      <th>bedrooms</th>\n",
              "      <td>-29263.836532</td>\n",
              "    </tr>\n",
              "    <tr>\n",
              "      <th>bathrooms</th>\n",
              "      <td>41026.396721</td>\n",
              "    </tr>\n",
              "    <tr>\n",
              "      <th>sqft_living</th>\n",
              "      <td>84.321002</td>\n",
              "    </tr>\n",
              "    <tr>\n",
              "      <th>sqft_lot</th>\n",
              "      <td>0.105336</td>\n",
              "    </tr>\n",
              "    <tr>\n",
              "      <th>floors</th>\n",
              "      <td>6747.966167</td>\n",
              "    </tr>\n",
              "    <tr>\n",
              "      <th>waterfront</th>\n",
              "      <td>510144.073609</td>\n",
              "    </tr>\n",
              "    <tr>\n",
              "      <th>view</th>\n",
              "      <td>50473.928267</td>\n",
              "    </tr>\n",
              "    <tr>\n",
              "      <th>condition</th>\n",
              "      <td>33478.567260</td>\n",
              "    </tr>\n",
              "    <tr>\n",
              "      <th>grade</th>\n",
              "      <td>91923.243000</td>\n",
              "    </tr>\n",
              "    <tr>\n",
              "      <th>sqft_above</th>\n",
              "      <td>85.416997</td>\n",
              "    </tr>\n",
              "    <tr>\n",
              "      <th>sqft_basement</th>\n",
              "      <td>62.517225</td>\n",
              "    </tr>\n",
              "    <tr>\n",
              "      <th>yr_built</th>\n",
              "      <td>-2258.376362</td>\n",
              "    </tr>\n",
              "    <tr>\n",
              "      <th>yr_renovated</th>\n",
              "      <td>26.797313</td>\n",
              "    </tr>\n",
              "    <tr>\n",
              "      <th>lat</th>\n",
              "      <td>561465.398956</td>\n",
              "    </tr>\n",
              "    <tr>\n",
              "      <th>long</th>\n",
              "      <td>-119648.765032</td>\n",
              "    </tr>\n",
              "    <tr>\n",
              "      <th>sqft_living15</th>\n",
              "      <td>35.667879</td>\n",
              "    </tr>\n",
              "    <tr>\n",
              "      <th>sqft_lot15</th>\n",
              "      <td>-0.342942</td>\n",
              "    </tr>\n",
              "  </tbody>\n",
              "</table>\n",
              "</div>"
            ],
            "text/plain": [
              "                 Coefficient\n",
              "bedrooms       -29263.836532\n",
              "bathrooms       41026.396721\n",
              "sqft_living        84.321002\n",
              "sqft_lot            0.105336\n",
              "floors           6747.966167\n",
              "waterfront     510144.073609\n",
              "view            50473.928267\n",
              "condition       33478.567260\n",
              "grade           91923.243000\n",
              "sqft_above         85.416997\n",
              "sqft_basement      62.517225\n",
              "yr_built        -2258.376362\n",
              "yr_renovated       26.797313\n",
              "lat            561465.398956\n",
              "long          -119648.765032\n",
              "sqft_living15      35.667879\n",
              "sqft_lot15         -0.342942"
            ]
          },
          "metadata": {},
          "execution_count": 142
        }
      ]
    },
    {
      "cell_type": "markdown",
      "metadata": {
        "id": "H4GuZ9TBwsty"
      },
      "source": [
        "Elastic Net refression has an MAE of 125238 that a bit lower than the base line model. It also has an R2 score of 70%"
      ]
    },
    {
      "cell_type": "markdown",
      "metadata": {
        "id": "4iloYwjBF7Z0"
      },
      "source": [
        "## Conclusion"
      ]
    },
    {
      "cell_type": "markdown",
      "metadata": {
        "id": "C51nNk2WMv4g"
      },
      "source": [
        "From the notebook Lasso regression have the Lowest mean abosulte error compared to all other regression based on the baseline model.We are comparing MAE because it robust to dataset with outliers and our dataset has outliers in the dependent variable due to some house having very high prices compared to others which is totaly normal.Lasso regression shinks coefficience of variables with low contribution to the model through l1 penalty.\n"
      ]
    },
    {
      "cell_type": "markdown",
      "metadata": {
        "id": "yD-7DdvAO9AL"
      },
      "source": [
        "## Recommendations."
      ]
    },
    {
      "cell_type": "markdown",
      "metadata": {
        "id": "2nj_CxM5PR2t"
      },
      "source": [
        "Lasso regression is the best model to make house price prediction because it has a low mean absolute error(MAE) and accuracy rate of 70%"
      ]
    }
  ]
}